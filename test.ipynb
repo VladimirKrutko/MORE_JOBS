{
 "cells": [
  {
   "cell_type": "code",
   "execution_count": 1,
   "metadata": {},
   "outputs": [],
   "source": [
    "from scripting.loader import db_setup\n",
    "from scripting.loader.models import site, company, offer_data, geography, offer_geography, offer, salary, offer_salary\n",
    "from scripting.parser.pracuj_pl.page_parser import PracujPLParser"
   ]
  },
  {
   "cell_type": "code",
   "execution_count": 2,
   "metadata": {},
   "outputs": [],
   "source": [
    "parser = PracujPLParser('pracuj.pl')\n",
    "\n",
    "with open('/Users/ulakruts/Personal Project/Praca_Inzynierska/MJ/test.html', 'r') as f:\n",
    "    content = f.read()"
   ]
  },
  {
   "cell_type": "code",
   "execution_count": 3,
   "metadata": {},
   "outputs": [],
   "source": [
    "page_data = parser.parse(content, 'huj')"
   ]
  },
  {
   "cell_type": "code",
   "execution_count": 4,
   "metadata": {},
   "outputs": [
    {
     "data": {
      "text/plain": [
       "{'url': 'huj',\n",
       " 'site': 'pracuj.pl',\n",
       " 'company_name': 'alior bank',\n",
       " 'company_url': None,\n",
       " 'company_description': None,\n",
       " 'offer_title': 'specjalista ds. portalu (ux i ui)',\n",
       " 'position_level': [{'id': 4,\n",
       "   'name': 'specjalista (Mid / Regular)',\n",
       "   'pracujPlName': 'specjalista (Mid / Regular)'}],\n",
       " 'technology_list': {'required': ['HTML'], 'optional': None},\n",
       " 'offer_description': 'alior bank konsekwentnie pracuje na miano innowatora. stały rozwój bankowości mobilnej i regularne wdrażanie najbardziej nowatorskich na rynku rozwiązań wymaga potężnego zaplecza it - zarówno w zakresie przygotowania aplikacji i systemów, jak i oceny ryzyka oraz kontroli bezpieczeństwa danych. aktualnie w pionie it alior banku zatrudniamy ponad 700 specjalistów. wykorzystują oni 15 różnych platform, 14 frameworków, ponad 50 różnych technologii w obszarze infrastruktury oraz 10 baz danych. wdrażamy aktualnie nowe systemy, takie jak kafka, eureka, kubernetes. pracujemy zarówno w klasycznym modelu projektowym, jak i w agile, który przystosowaliśmy do naszych standardów poprzez projekt agilor. przez zwinną transformację przeprowadza nas zespół scrum masterów.',\n",
       " 'requirements': 'masz wysokie umiejętności analityczne, jest ambitna, otwarta na nowe wyzwania, samodzielna i interdyscyplinarna,@@@@posiadasz wiedzę z zakresu ux i ui,@@@@masz doświadczenie w aktualizacji i tworzeniu stron internetowych, zna podstawy html,@@@@szybko się uczysz i chcesz rozwijać swoje umiejętności w obszarze digital marketingu.',\n",
       " 'responsibilities': 'inicjowanie projektów w ramach rozwoju portalu – w celu zwiększenia sprzedaży i użyteczności stron banku,@@@@śledzenie i wdrażanie najnowszych trendów w obszarze www we współpracy komórkami banku, w tym optymalizacja pod kątem ux/ui (dostępności),@@@@bieżąca aktualizacja (przez system cms), współtworzenie (projektowanie stron) i rozwój portalu banku o nowe funkcje i rozwiązania – we współpracy z agencją zewnętrzną,@@@@samodzielna edycja i tworzenie grafik internetowych na potrzeby www (znajomość programów graficznych np. photoshop, adobe illustrator),@@@@wspieranie projektów digitalowych z zakresu komunikacji marketingowej.',\n",
       " 'language': 'pl',\n",
       " 'city': {'Warszawa'},\n",
       " 'salary': '-',\n",
       " 'work_type': ['hybrid'],\n",
       " 'country': {'Polska'}}"
      ]
     },
     "execution_count": 4,
     "metadata": {},
     "output_type": "execute_result"
    }
   ],
   "source": [
    "page_data"
   ]
  },
  {
   "cell_type": "code",
   "execution_count": 15,
   "metadata": {},
   "outputs": [
    {
     "data": {
      "text/plain": [
       "<Site(id=2, name='pracuj.paal', domain='None')>"
      ]
     },
     "execution_count": 15,
     "metadata": {},
     "output_type": "execute_result"
    }
   ],
   "source": [
    "site.Site.create(name='pracuj.paal', url='https://pracuj.pl')"
   ]
  },
  {
   "cell_type": "code",
   "execution_count": 19,
   "metadata": {},
   "outputs": [
    {
     "data": {
      "text/plain": [
       "<Company(id=1, name='pracuj.paal', url='https://pracuj.pl', business_type='IT')>"
      ]
     },
     "execution_count": 19,
     "metadata": {},
     "output_type": "execute_result"
    }
   ],
   "source": [
    "company.Company.create(name='pracuj.paal', url='https://pracuj.pl', business_type='IT', description='IT')"
   ]
  },
  {
   "cell_type": "code",
   "execution_count": 12,
   "metadata": {},
   "outputs": [],
   "source": [
    "site_session = site.Session()\n",
    "site_session.add(p_site)\n",
    "site_session.commit()"
   ]
  },
  {
   "cell_type": "code",
   "execution_count": 13,
   "metadata": {},
   "outputs": [],
   "source": [
    "site_session.close()"
   ]
  },
  {
   "cell_type": "code",
   "execution_count": 6,
   "metadata": {},
   "outputs": [
    {
     "name": "stdout",
     "output_type": "stream",
     "text": [
      "Creating a new OfferData record...\n",
      "OfferData created with ID: 1\n",
      "Checking if OfferData record exists...\n",
      "An error occurred: (psycopg2.errors.UndefinedFunction) operator does not exist: jsonb = json\n",
      "LINE 3: WHERE offer_data.data = '{\"offer_description\": \"alior bank k...\n",
      "                              ^\n",
      "HINT:  No operator matches the given name and argument types. You might need to add explicit type casts.\n",
      "\n",
      "[SQL: SELECT offer_data.data AS offer_data_data, offer_data.requirements AS offer_data_requirements, offer_data.responsibilities AS offer_data_responsibilities, offer_data.original_language AS offer_data_original_language, offer_data.translated_data AS offer_data_translated_data, offer_data.id AS offer_data_id, offer_data.create_date AS offer_data_create_date, offer_data.update_date AS offer_data_update_date \n",
      "FROM offer_data \n",
      "WHERE offer_data.data = %(data_1)s::JSON \n",
      " LIMIT %(param_1)s]\n",
      "[parameters: {'data_1': '{\"offer_description\": \"alior bank konsekwentnie pracuje na miano innowatora...\", \"position_level\": [{\"id\": 4, \"name\": \"specjalista (Mid / Regular)\", \"pracujPlName\": \"specjalista (Mid / Regular)\"}], \"work_type\": [\"hybrid\"]}', 'param_1': 1}]\n",
      "(Background on this error at: https://sqlalche.me/e/20/f405)\n"
     ]
    }
   ],
   "source": [
    "def test_offer_data():\n",
    "    session =  db_setup.Session()\n",
    "    test_offer_data = {\n",
    "        \"data\": {\n",
    "            \"offer_description\": \"alior bank konsekwentnie pracuje na miano innowatora...\",\n",
    "            \"position_level\": [{\"id\": 4, \"name\": \"specjalista (Mid / Regular)\", \"pracujPlName\": \"specjalista (Mid / Regular)\"}],\n",
    "            \"work_type\": [\"hybrid\"]\n",
    "        },\n",
    "        \"requirements\": \"masz wysokie umiejętności analityczne, jest ambitna, otwarta на nowe wyzwania...\",\n",
    "        \"responsibilities\": \"inicjowanie projektów в ramach rozwoju portalu – w celu zwiększenia sprzedaży...\",\n",
    "        \"original_language\": \"pl\",\n",
    "        \"translated_data\": {\"offer_description_translated\": \"translated text\"}\n",
    "    }\n",
    "\n",
    "    try:\n",
    "        # Проверка метода create\n",
    "        print(\"Creating a new OfferData record...\")\n",
    "        offer_data_record = offer_data.OfferData.create(**test_offer_data)\n",
    "        if offer_data_record:\n",
    "            print(f\"OfferData created with ID: {offer_data_record.id}\")\n",
    "\n",
    "        # Проверка метода exists\n",
    "        print(\"Checking if OfferData record exists...\")\n",
    "        exists = offer_data.OfferData.exists(data=test_offer_data[\"data\"])\n",
    "        print(f\"OfferData exists: {exists}\")\n",
    "\n",
    "        # Проверка метода update\n",
    "        if offer_data_record:\n",
    "            print(\"Updating OfferData record...\")\n",
    "            updated_record = offer_data.OfferData.update(\n",
    "                record_id=offer_data_record.id,\n",
    "                requirements=\"Updated requirements\",\n",
    "                responsibilities=\"Updated responsibilities\"\n",
    "            )\n",
    "            print(f\"Updated OfferData: {updated_record.requirements}, {updated_record.responsibilities}\")\n",
    "\n",
    "        # Проверка выборки из базы\n",
    "        print(\"Querying OfferData records...\")\n",
    "        all_records = session.query(offer_data.OfferData).all()\n",
    "        for record in all_records:\n",
    "            print(f\"OfferData ID: {record.id}, Requirements: {record.requirements}\")\n",
    "\n",
    "    except Exception as e:\n",
    "        print(f\"An error occurred: {e}\")\n",
    "        session.rollback()\n",
    "    finally:\n",
    "        session.close()\n",
    "\n",
    "\n",
    "# Запуск теста\n",
    "test_offer_data()\n"
   ]
  },
  {
   "cell_type": "code",
   "execution_count": 12,
   "metadata": {},
   "outputs": [
    {
     "name": "stdout",
     "output_type": "stream",
     "text": [
      "Creating a test offer...\n",
      "Offer created with ID: 2, URL: test_offer_url\n",
      "Creating a test geography...\n",
      "Geography created with ID: 2, City: Test City, Country: Test Country\n",
      "Creating a test OfferGeography...\n",
      "OfferGeography created: OfferID=2, GeographyID=2\n",
      "Testing duplicate OfferGeography creation...\n",
      "OfferGeography with offer URL 'test_offer_url' and geography 'Test City, Test Country' already exists!\n",
      "Duplicate OfferGeography creation prevented successfully!\n"
     ]
    }
   ],
   "source": [
    "# from models.geography import Geography\n",
    "# from models.offer import Offer\n",
    "# from models.offer_geography import OfferGeography\n",
    "# from database.db_setup import SessionLocal\n",
    "\n",
    "\n",
    "def test_offer_geography_creation():\n",
    "    session = Session()\n",
    "\n",
    "    try:\n",
    "        print(\"Creating a test offer...\")\n",
    "        offer_data =  offer.Offer.create(\n",
    "            url=\"test_offer_url\",\n",
    "            name=\"Test Offer\",\n",
    "            position_level=\"Mid\",\n",
    "            data_id=-1,\n",
    "            site_name=\"Test Site\",\n",
    "            company_name=\"Test Company\",\n",
    "            active=True\n",
    "        )\n",
    "        if not offer_data:\n",
    "            print(\"Failed to create Offer. Check the create method for Offer.\")\n",
    "            return\n",
    "\n",
    "        print(f\"Offer created with ID: {offer_data.id}, URL: {offer_data.url}\")\n",
    "\n",
    "        print(\"Creating a test geography...\")\n",
    "        geography_data =  geography.Geography.create(\n",
    "            city=\"Test City\",\n",
    "            country=\"Test Country\"\n",
    "        )\n",
    "        if not geography_data:\n",
    "            print(\"Failed to create Geography. Check the create method for Geography.\")\n",
    "            return\n",
    "\n",
    "        print(f\"Geography created with ID: {geography_data.id}, City: {geography_data.city}, Country: {geography_data.country}\")\n",
    "\n",
    "        print(\"Creating a test OfferGeography...\")\n",
    "        offer_geography_data = offer_geography.OfferGeography.create(\n",
    "            offer_url=\"test_offer_url\",\n",
    "            city=\"Test City\",\n",
    "            country=\"Test Country\"\n",
    "        )\n",
    "        if offer_geography_data:\n",
    "            print(f\"OfferGeography created: OfferID={offer_geography_data.id_offer}, GeographyID={offer_geography_data.id_geography}\")\n",
    "        else:\n",
    "            print(\"Failed to create OfferGeography. Check the create method for OfferGeography.\")\n",
    "\n",
    "        print(\"Testing duplicate OfferGeography creation...\")\n",
    "        duplicate_offer_geography_data = offer_geography.OfferGeography.create(\n",
    "            offer_url=\"test_offer_url\",\n",
    "            city=\"Test City\",\n",
    "            country=\"Test Country\"\n",
    "        )\n",
    "        if not duplicate_offer_geography_data:\n",
    "            print(\"Duplicate OfferGeography creation prevented successfully!\")\n",
    "\n",
    "    except Exception as e:\n",
    "        print(f\"An error occurred: {e}\")\n",
    "        session.rollback()\n",
    "    finally:\n",
    "        session.close()\n",
    "\n",
    "\n",
    "test_offer_geography_creation()\n"
   ]
  },
  {
   "cell_type": "code",
   "execution_count": 11,
   "metadata": {},
   "outputs": [
    {
     "name": "stdout",
     "output_type": "stream",
     "text": [
      "Creating a test site...\n",
      "Site created with ID: 1, Name: Test Site, Domain: testsite.com\n",
      "Creating a test company...\n",
      "Company created with ID: 1, Name: Test Company, URL: https://testcompany.com\n",
      "Creating a test offer...\n",
      "Offer created: ID=1, URL=https://testoffer.com, Name=Test Offer, Position Level=Mid\n",
      "Testing duplicate Offer creation...\n",
      "Offer with URL 'https://testoffer.com' already exists!\n",
      "Duplicate Offer creation prevented successfully!\n"
     ]
    }
   ],
   "source": [
    "\n",
    "\n",
    "def test_offer_creation():\n",
    "    session = Session()\n",
    "\n",
    "    try:\n",
    "        # Создание записи в Site\n",
    "        print(\"Creating a test site...\")\n",
    "        site_data = site.Site.create(\n",
    "            name=\"Test Site\",\n",
    "            domain=\"testsite.com\"\n",
    "        )\n",
    "        if not site_data:\n",
    "            print(\"Failed to create Site. Check the create method for Site.\")\n",
    "            return\n",
    "\n",
    "        print(f\"Site created with ID: {site_data.id}, Name: {site_data.name}, Domain: {site_data.domain}\")\n",
    "\n",
    "        # Создание записи в Company\n",
    "        print(\"Creating a test company...\")\n",
    "        company_data = company.Company.create(\n",
    "            name=\"Test Company\",\n",
    "            url=\"https://testcompany.com\",\n",
    "            business_type=\"IT\",\n",
    "            description=\"A test company for testing.\"\n",
    "        )\n",
    "        if not company_data:\n",
    "            print(\"Failed to create Company. Check the create method for Company.\")\n",
    "            return\n",
    "\n",
    "        print(f\"Company created with ID: {company_data.id}, Name: {company_data.name}, URL: {company_data.url}\")\n",
    "\n",
    "        # Создание записи в Offer\n",
    "        print(\"Creating a test offer...\")\n",
    "        offer_data = offer.Offer.create(\n",
    "            url=\"https://testoffer.com\",\n",
    "            name=\"Test Offer\",\n",
    "            position_level=\"Mid\",\n",
    "            data_id=-1,\n",
    "            site_name=\"Test Site\",\n",
    "            company_name=\"Test Company\",\n",
    "            active=True\n",
    "        )\n",
    "        if offer_data:\n",
    "            print(f\"Offer created: ID={offer_data.id}, URL={offer_data.url}, Name={offer_data.name}, Position Level={offer_data.position_level}\")\n",
    "        else:\n",
    "            print(\"Failed to create Offer. Check the create method for Offer.\")\n",
    "\n",
    "        # Повторное создание для проверки уникальности\n",
    "        print(\"Testing duplicate Offer creation...\")\n",
    "        duplicate_offer_data = offer.Offer.create(\n",
    "            url=\"https://testoffer.com\",\n",
    "            name=\"Duplicate Offer\",\n",
    "            position_level=\"Senior\",\n",
    "            data_id=-1,\n",
    "            site_name=\"Test Site\",\n",
    "            company_name=\"Test Company\",\n",
    "            active=True\n",
    "        )\n",
    "        if not duplicate_offer_data:\n",
    "            print(\"Duplicate Offer creation prevented successfully!\")\n",
    "\n",
    "    except Exception as e:\n",
    "        print(f\"An error occurred: {e}\")\n",
    "        session.rollback()\n",
    "    finally:\n",
    "        session.close()\n",
    "\n",
    "\n",
    "test_offer_creation()\n"
   ]
  },
  {
   "cell_type": "code",
   "execution_count": 3,
   "metadata": {},
   "outputs": [
    {
     "name": "stdout",
     "output_type": "stream",
     "text": [
      "Creating a test offer...\n",
      "Offer with URL 'test_ofasassssfqefer_url' already exists!\n",
      "Offer created with ID: 4, URL: test_ofasassssfqefer_url\n",
      "Creating a test salary...\n",
      "Salary already exists!\n",
      "Salary created with ID: 1, Value: 5000-7000 PLN, Contract Type: Full-time\n",
      "Creating a test OfferSalary...\n",
      "OfferSalary with salary '5000-7000 PLN' and offer 'test_offer_url' already exists!\n",
      "Failed to create OfferSalary. Check the create method for OfferSalary.\n",
      "Testing duplicate OfferSalary creation...\n",
      "OfferSalary with salary '5000-7000 PLN' and offer 'test_offer_url' already exists!\n",
      "Duplicate OfferSalary creation prevented successfully!\n"
     ]
    }
   ],
   "source": [
    "from scripting.loader.db_setup import Session\n",
    "\n",
    "\n",
    "def test_offer_salary_creation():\n",
    "    session = Session()\n",
    "\n",
    "    try:\n",
    "        print(\"Creating a test offer...\")\n",
    "        offer_data = offer.Offer.create(\n",
    "            url=\"test_ofasassssfqefer_url\",\n",
    "            name=\"Test Offer\",\n",
    "            position_level=\"Mid\",\n",
    "            data_id=-1,\n",
    "            site_name=\"Test Site\",\n",
    "            company_name=\"Test Company\",\n",
    "            active=True\n",
    "        )\n",
    "        if not offer_data:\n",
    "            print(\"Failed to create Offer. Check the create method for Offer.\")\n",
    "            return\n",
    "\n",
    "        print(f\"Offer created with ID: {offer_data.id}, URL: {offer_data.url}\")\n",
    "\n",
    "        print(\"Creating a test salary...\")\n",
    "        salary_data = salary.Salary.create(\n",
    "            value=\"5000-7000 PLN\",\n",
    "            contract_type=\"Full-time\"\n",
    "        )\n",
    "        if not salary_data:\n",
    "            print(\"Failed to create Salary. Check the create method for Salary.\")\n",
    "            return\n",
    "\n",
    "        print(f\"Salary created with ID: {salary_data.id}, Value: {salary_data.value}, Contract Type: {salary_data.contract_type}\")\n",
    "\n",
    "        print(\"Creating a test OfferSalary...\")\n",
    "        offer_salary_data = offer_salary.OfferSalary.create(\n",
    "            offer_url=\"test_offer_url\",\n",
    "            salary_value=\"5000-7000 PLN\",\n",
    "            salary_contract_type=\"Full-time\"\n",
    "        )\n",
    "        if offer_salary_data:\n",
    "            print(f\"OfferSalary created: ID={offer_salary_data.id}, OfferID={offer_salary_data.id_offer}, SalaryID={offer_salary_data.id_salary}\")\n",
    "        else:\n",
    "            print(\"Failed to create OfferSalary. Check the create method for OfferSalary.\")\n",
    "\n",
    "        print(\"Testing duplicate OfferSalary creation...\")\n",
    "        duplicate_offer_salary_data = offer_salary.OfferSalary.create(\n",
    "            offer_url=\"test_offer_url\",\n",
    "            salary_value=\"5000-7000 PLN\",\n",
    "            salary_contract_type=\"Full-time\"\n",
    "        )\n",
    "        if not duplicate_offer_salary_data:\n",
    "            print(\"Duplicate OfferSalary creation prevented successfully!\")\n",
    "\n",
    "    except Exception as e:\n",
    "        print(f\"An error occurred: {e}\")\n",
    "        session.rollback()\n",
    "    finally:\n",
    "        session.close()\n",
    "\n",
    "\n",
    "test_offer_salary_creation()"
   ]
  },
  {
   "cell_type": "code",
   "execution_count": 1,
   "metadata": {},
   "outputs": [],
   "source": [
    "from scripting.parser.pracuj_pl.placement_parser import PracujPLPlacement"
   ]
  },
  {
   "cell_type": "code",
   "execution_count": 18,
   "metadata": {},
   "outputs": [],
   "source": [
    "from scripting.parser.pracuj_pl.base_methods import *\n",
    "from scripting.parser.base_parser import BaseParser\n",
    "\n",
    "class PracujPLPlacement(BaseParser, BaseMethods):\n",
    "    \n",
    "    def parse(self, response_result, url):\n",
    "        self.initialize_variables(response_result, url)\n",
    "        return self.create_result()\n",
    "    \n",
    "    def create_result(self):\n",
    "        return {\n",
    "            'offer_urls': self.parse_offer_urls(), \n",
    "            'next_page': self.pagination(),\n",
    "            }\n",
    "\n",
    "    def parse_offer_urls(self):\n",
    "        links = self.doc.find_all(\"a\", attrs={\"data-test\": re.compile(r\"^link-offer$\")})\n",
    "        return [link['href'] for link in links]\n",
    "    \n",
    "    def pagination(self):\n",
    "        page_number = self.get_page_number()\n",
    "        if page_number == self.last_page():\n",
    "            return None\n",
    "        \n",
    "        return f\"{self.url}?pn=2\" if page_number == 1 else re.sub(r\"(\\d+)\", str(page_number+1), self.url)\n",
    "        \n",
    "    def get_page_number(self):\n",
    "        page_number = re.search(r\"(\\d+)\", self.url)\n",
    "        return int(page_number.group(0)) if page_number else 1\n",
    "     \n",
    "    def last_page(self):\n",
    "        pages = self.doc.find_all(\"button\", {\"data-test\": lambda value: value and \"bottom-pagination-button-page\" in value})\n",
    "        return max([int(p.text.strip()) for p in pages])\n"
   ]
  },
  {
   "cell_type": "code",
   "execution_count": 14,
   "metadata": {},
   "outputs": [],
   "source": [
    "with open('/Users/ulakruts/Personal Project/Praca_Inzynierska/MJ/MORE_JOBS/placement.html', 'r') as f:\n",
    "    page_data = f.read()"
   ]
  },
  {
   "cell_type": "code",
   "execution_count": 19,
   "metadata": {},
   "outputs": [
    {
     "data": {
      "text/plain": [
       "{'offer_urls': ['https://www.pracuj.pl/praca/product-owner-warszawa,oferta,1003786069',\n",
       "  'https://www.pracuj.pl/praca/senior-embedded-linux-engineer-gdynia-aleja-zwyciestwa-96-98,oferta,1003786068',\n",
       "  'https://www.pracuj.pl/praca/sap-bw-architect-poznan-krysiewicza-9,oferta,1003786073',\n",
       "  'https://www.pracuj.pl/praca/architekt-korporacyjny-warszawa,oferta,1003786080',\n",
       "  'https://www.pracuj.pl/praca/mobile-developer-krakow-aleja-29-listopada-85,oferta,1003786086',\n",
       "  'https://www.pracuj.pl/praca/product-owner-z-jez-niemieckim-bialystok-aleja-jozefa-pilsudskiego-6-1,oferta,1003786079',\n",
       "  'https://www.pracuj.pl/praca/java-developer-bialystok-aleja-jozefa-pilsudskiego-6-1,oferta,1003786078',\n",
       "  'https://www.pracuj.pl/praca/java-developer-digital-trust-lodz-dowborczykow-30,oferta,1003786083',\n",
       "  'https://www.pracuj.pl/praca/golang-developer-cryptography-warszawa,oferta,1003786301',\n",
       "  'https://www.pracuj.pl/praca/frontend-react-developer-gdansk,oferta,1003786296',\n",
       "  'https://www.pracuj.pl/praca/data-engineer-python-aws-wroclaw,oferta,1003786304',\n",
       "  'https://www.pracuj.pl/praca/senior-node-js-developer-warszawa-aleje-jerozolimskie-81,oferta,1003786309',\n",
       "  'https://www.pracuj.pl/praca/business-analyst-poznan,oferta,1003786122',\n",
       "  'https://www.pracuj.pl/praca/security-specialist-warszawa-grzybowska-62,oferta,1003786085',\n",
       "  'https://www.pracuj.pl/praca/mid-senior-analityk-analityczka-it-warszawa-aleje-jerozolimskie-132,oferta,1003786350',\n",
       "  'https://www.pracuj.pl/praca/senior-software-engineer-notes-team-nodejs-warszawa-chmielna-69,oferta,1003786109',\n",
       "  'https://www.pracuj.pl/praca/power-platform-developer-warszawa,oferta,1003786310',\n",
       "  'https://www.pracuj.pl/praca/golang-developer-krakow,oferta,1003786090',\n",
       "  'https://www.pracuj.pl/praca/senior-devops-engineer-krakow,oferta,1003786097',\n",
       "  'https://www.pracuj.pl/praca/senior-net-developer-warszawa,oferta,1003786308',\n",
       "  'https://www.pracuj.pl/praca/data-engineer-poznan,oferta,1003786344',\n",
       "  'https://www.pracuj.pl/praca/frontend-developer-react%2bjs-krakow,oferta,1003786315',\n",
       "  'https://www.pracuj.pl/praca/it-project-manager-sroda-slaska,oferta,1003786111',\n",
       "  'https://www.pracuj.pl/praca/it-business-analyst-warszawa,oferta,1003786319',\n",
       "  'https://www.pracuj.pl/praca/salesforce-developer-wroclaw,oferta,1003786331',\n",
       "  'https://www.pracuj.pl/praca/performance-tester-gdansk-leborska-3b,oferta,1003786332',\n",
       "  'https://www.pracuj.pl/praca/scala-developer-spark-warszawa,oferta,1003793239',\n",
       "  'https://www.pracuj.pl/praca/senior-business-analyst-in-it-warszawa-jana-czeczota-6,oferta,1003791273',\n",
       "  'https://www.pracuj.pl/praca/senior-devops-engineer-with-aws-warszawa-aleja-niepodleglosci-18,oferta,1003793246',\n",
       "  'https://www.pracuj.pl/praca/mobile-developer-ios-warszawa,oferta,1003793250',\n",
       "  'https://www.pracuj.pl/praca/salesforce-developer-wroclaw,oferta,1003795477',\n",
       "  'https://www.pracuj.pl/praca/sql-developer-krakow-cystersow-13,oferta,1003795485',\n",
       "  'https://www.pracuj.pl/praca/java-developer-warszawa,oferta,1003798276',\n",
       "  'https://www.pracuj.pl/praca/ux-ui-designer-wroclaw,oferta,1003798277',\n",
       "  'https://www.pracuj.pl/praca/senior-ux-designer-warszawa,oferta,1003798278',\n",
       "  'https://www.pracuj.pl/praca/lead-c%2b%2b-developer-warszawa,oferta,1003798291',\n",
       "  'https://www.pracuj.pl/praca/c%23-backend-developer-bielsko-biala-warszawska-28,oferta,1003795492',\n",
       "  'https://www.pracuj.pl/praca/java-backend-developer-bielsko-biala-warszawska-28,oferta,1003795491',\n",
       "  'https://www.pracuj.pl/praca/kotlin-backend-developer-bielsko-biala-warszawska-28,oferta,1003795495',\n",
       "  'https://www.pracuj.pl/praca/senior-ios-developer-warszawa,oferta,1003798281',\n",
       "  'https://www.pracuj.pl/praca/php-backend-developer-bielsko-biala-warszawska-28,oferta,1003795494',\n",
       "  'https://www.pracuj.pl/praca/senior-platform-support-specialist-virtualization-and-storage-warszawa-zwirki-i-wigury-16c,oferta,1003798295',\n",
       "  'https://www.pracuj.pl/praca/product-owner-warszawa,oferta,1003798292',\n",
       "  'https://www.pracuj.pl/praca/qa-engineer-python-developer-warszawa-aleje-jerozolimskie-200,oferta,1003798298',\n",
       "  'https://www.pracuj.pl/praca/net-developer-gdansk-aleja-grunwaldzka-472c,oferta,1003793282'],\n",
       " 'next_page': 'huj.com?pn=2'}"
      ]
     },
     "execution_count": 19,
     "metadata": {},
     "output_type": "execute_result"
    }
   ],
   "source": [
    "PracujPLPlacement('huj.com').parse(page_data, 'huj.com')"
   ]
  },
  {
   "cell_type": "code",
   "execution_count": 1,
   "metadata": {},
   "outputs": [],
   "source": [
    "import os\n",
    "from dotenv import load_dotenv\n",
    "\n",
    "load_dotenv()  # Загружаем .env файл\n",
    "\n",
    "AWS_ACCESS_KEY_ID = os.getenv('AWS_ACCESS_KEY_ID')\n",
    "AWS_SECRET_ACCESS_KEY = os.getenv('AWS_SECRET_ACCESS_KEY')\n",
    "AWS_REGION = os.getenv('AWS_REGION', 'us-east-1')\n"
   ]
  },
  {
   "cell_type": "code",
   "execution_count": 3,
   "metadata": {},
   "outputs": [],
   "source": [
    "import boto3\n",
    "\n",
    "session = boto3.Session(\n",
    "    aws_access_key_id=AWS_ACCESS_KEY_ID,\n",
    "    aws_secret_access_key=AWS_SECRET_ACCESS_KEY,\n",
    "    region_name=AWS_REGION\n",
    ")\n",
    "\n",
    "sqs = session.client('sqs')"
   ]
  },
  {
   "cell_type": "code",
   "execution_count": 5,
   "metadata": {},
   "outputs": [
    {
     "name": "stdout",
     "output_type": "stream",
     "text": [
      "Message sent! MessageId: e1072509-de54-4441-9983-0e202a50b79e\n",
      "Received message: Hello, FIFO Queue!\n"
     ]
    }
   ],
   "source": [
    "import uuid\n",
    "\n",
    "\n",
    "QUEUE_URL = 'https://sqs.eu-central-1.amazonaws.com/221082168740/test.fifo'\n",
    "\n",
    "# Отправка сообщения в FIFO очередь\n",
    "def send_message_to_fifo_queue(queue_url, message_body, message_group_id):\n",
    "    response = sqs.send_message(\n",
    "        QueueUrl=queue_url,\n",
    "        MessageBody=message_body,\n",
    "        MessageGroupId=message_group_id,\n",
    "        MessageDeduplicationId=str(uuid.uuid4())  # Генерация уникального ID для дедупликации\n",
    "    )\n",
    "    print(\"Message sent! MessageId:\", response['MessageId'])\n",
    "\n",
    "# Чтение сообщений из FIFO очереди\n",
    "def receive_message_from_fifo_queue(queue_url):\n",
    "    response = sqs.receive_message(\n",
    "        QueueUrl=queue_url,\n",
    "        MaxNumberOfMessages=1,  # Получить одно сообщение за раз\n",
    "        WaitTimeSeconds=10      # Ждать до 10 секунд, если очередь пуста\n",
    "    )\n",
    "\n",
    "    # Проверка наличия сообщений\n",
    "    if 'Messages' in response:\n",
    "        for message in response['Messages']:\n",
    "            print(\"Received message:\", message['Body'])\n",
    "    else:\n",
    "        print(\"No messages available.\")\n",
    "\n",
    "# Тестовая отправка и получение сообщений\n",
    "if __name__ == \"__main__\":\n",
    "    # Отправить сообщение\n",
    "    send_message_to_fifo_queue(QUEUE_URL, \"Hello, FIFO Queue!\", \"my-message-group\")\n",
    "\n",
    "    # Прочитать сообщение\n",
    "    receive_message_from_fifo_queue(QUEUE_URL)"
   ]
  },
  {
   "cell_type": "code",
   "execution_count": null,
   "metadata": {},
   "outputs": [
    {
     "name": "stdout",
     "output_type": "stream",
     "text": [
      "Данные успешно вставлены: {'ResponseMetadata': {'RequestId': 'GBQ5LLO0V4U2I6T7GK6MT7I2BFVV4KQNSO5AEMVJF66Q9ASUAAJG', 'HTTPStatusCode': 200, 'HTTPHeaders': {'server': 'Server', 'date': 'Tue, 14 Jan 2025 22:34:22 GMT', 'content-type': 'application/x-amz-json-1.0', 'content-length': '2', 'connection': 'keep-alive', 'x-amzn-requestid': 'GBQ5LLO0V4U2I6T7GK6MT7I2BFVV4KQNSO5AEMVJF66Q9ASUAAJG', 'x-amz-crc32': '2745614147'}, 'RetryAttempts': 0}}\n"
     ]
    }
   ],
   "source": [
    "import boto3\n",
    "from botocore.exceptions import ClientError\n",
    "\n",
    "# Создаём клиент DynamoDB\n",
    "dynamodb = boto3.resource('dynamodb', region_name='eu-central-1')\n",
    "table = dynamodb.Table('site-data')\n",
    "\n",
    "# Пример данных для вставки\n",
    "item = {\n",
    "  \"site\": \"pracuj_pl\",\n",
    "  \"start_url\": \"https://it.pracuj.pl/praca\",\n",
    "  \"domain\": \"pl\",\n",
    "  \"crawler_interwal\": 0,\n",
    "  \"login\": True,\n",
    "  \"seed_url\": \"https://www.pracuj.pl/\",\n",
    "  \"login_url\": \"https://www.pracuj.pl/\",\n",
    "  \"accept_cookies_path\": \"//button[@data-test=\\\"button-submitCookie\\\"]\",\n",
    "  \"workers\": 1,\n",
    "  \"base_crawler\": True\n",
    "}\n",
    "\n",
    "try:\n",
    "    response = table.put_item(Item=item)\n",
    "    print(\"Данные успешно вставлены:\", response)\n",
    "except ClientError as e:\n",
    "    print(f\"Ошибка вставки данных: {e.response['Error']['Message']}\")\n"
   ]
  },
  {
   "cell_type": "code",
   "execution_count": 3,
   "metadata": {},
   "outputs": [],
   "source": [
    "key = {\n",
    "  \"site\": \"pracuj_pl\",\n",
    "  }\n",
    "\n",
    "response = table.get_item(Key=key)"
   ]
  },
  {
   "cell_type": "code",
   "execution_count": 5,
   "metadata": {},
   "outputs": [
    {
     "data": {
      "text/plain": [
       "{'login': True,\n",
       " 'start_url': 'https://it.pracuj.pl/praca',\n",
       " 'accept_cookies_path': '//button[@data-test=\"button-submitCookie\"]',\n",
       " 'seed_url': 'https://www.pracuj.pl/',\n",
       " 'site': 'pracuj_pl',\n",
       " 'login_url': 'https://www.pracuj.pl/',\n",
       " 'crawler_interwal': Decimal('0'),\n",
       " 'workers': Decimal('1'),\n",
       " 'base_crawler': True,\n",
       " 'domain': 'pl'}"
      ]
     },
     "execution_count": 5,
     "metadata": {},
     "output_type": "execute_result"
    }
   ],
   "source": [
    "response['Item']"
   ]
  },
  {
   "cell_type": "code",
   "execution_count": 1,
   "metadata": {},
   "outputs": [],
   "source": [
    "from MORE_JOBS.scripting.sys.process_logger import Logger"
   ]
  },
  {
   "cell_type": "code",
   "execution_count": 6,
   "metadata": {},
   "outputs": [],
   "source": [
    "clrawler_logger = Logger('parser')"
   ]
  },
  {
   "cell_type": "code",
   "execution_count": 7,
   "metadata": {},
   "outputs": [],
   "source": [
    "data = {\"url\": \"http://example.com/page1\",\"file\": 'test', \"site\": \"example.com\", \"status\": \"200\", \"message\": \"Success\"}\n",
    "clrawler_logger.log(**data)"
   ]
  },
  {
   "cell_type": "code",
   "execution_count": 1,
   "metadata": {},
   "outputs": [],
   "source": [
    "from scripting.crawler.pracuj_pl.login import Login"
   ]
  },
  {
   "cell_type": "code",
   "execution_count": 3,
   "metadata": {},
   "outputs": [
    {
     "ename": "Error",
     "evalue": "It looks like you are using Playwright Sync API inside the asyncio loop.\nPlease use the Async API instead.",
     "output_type": "error",
     "traceback": [
      "\u001b[0;31m---------------------------------------------------------------------------\u001b[0m",
      "\u001b[0;31mError\u001b[0m                                     Traceback (most recent call last)",
      "Cell \u001b[0;32mIn[3], line 1\u001b[0m\n\u001b[0;32m----> 1\u001b[0m \u001b[43mLogin\u001b[49m\u001b[43m(\u001b[49m\u001b[43m)\u001b[49m\u001b[38;5;241;43m.\u001b[39;49m\u001b[43mlogin\u001b[49m\u001b[43m(\u001b[49m\u001b[43m)\u001b[49m\n",
      "File \u001b[0;32m~/PI/MORE_JOBS/scripting/crawler/pracuj_pl/login.py:6\u001b[0m, in \u001b[0;36mLogin.login\u001b[0;34m(self, proxy)\u001b[0m\n\u001b[1;32m      5\u001b[0m \u001b[38;5;28;01mdef\u001b[39;00m\u001b[38;5;250m \u001b[39m\u001b[38;5;21mlogin\u001b[39m(\u001b[38;5;28mself\u001b[39m, proxy\u001b[38;5;241m=\u001b[39m\u001b[38;5;28;01mNone\u001b[39;00m):\n\u001b[0;32m----> 6\u001b[0m     \u001b[38;5;28;01mwith\u001b[39;00m sync_playwright() \u001b[38;5;28;01mas\u001b[39;00m p:\n\u001b[1;32m      7\u001b[0m         browser \u001b[38;5;241m=\u001b[39m p\u001b[38;5;241m.\u001b[39mchromium\u001b[38;5;241m.\u001b[39mlaunch(proxy\u001b[38;5;241m=\u001b[39m{\u001b[38;5;124m\"\u001b[39m\u001b[38;5;124mserver\u001b[39m\u001b[38;5;124m\"\u001b[39m: proxy}, headless\u001b[38;5;241m=\u001b[39m\u001b[38;5;28;01mFalse\u001b[39;00m) \u001b[38;5;28;01mif\u001b[39;00m proxy \u001b[38;5;28;01melse\u001b[39;00m p\u001b[38;5;241m.\u001b[39mchromium\u001b[38;5;241m.\u001b[39mlaunch(headless\u001b[38;5;241m=\u001b[39m\u001b[38;5;28;01mFalse\u001b[39;00m)\n\u001b[1;32m      8\u001b[0m         context \u001b[38;5;241m=\u001b[39m browser\u001b[38;5;241m.\u001b[39mnew_context()\n",
      "File \u001b[0;32m~/PI/.env/lib/python3.9/site-packages/playwright/sync_api/_context_manager.py:47\u001b[0m, in \u001b[0;36mPlaywrightContextManager.__enter__\u001b[0;34m(self)\u001b[0m\n\u001b[1;32m     45\u001b[0m             \u001b[38;5;28mself\u001b[39m\u001b[38;5;241m.\u001b[39m_own_loop \u001b[38;5;241m=\u001b[39m \u001b[38;5;28;01mTrue\u001b[39;00m\n\u001b[1;32m     46\u001b[0m         \u001b[38;5;28;01mif\u001b[39;00m \u001b[38;5;28mself\u001b[39m\u001b[38;5;241m.\u001b[39m_loop\u001b[38;5;241m.\u001b[39mis_running():\n\u001b[0;32m---> 47\u001b[0m             \u001b[38;5;28;01mraise\u001b[39;00m Error(\n\u001b[1;32m     48\u001b[0m \u001b[38;5;250m                \u001b[39m\u001b[38;5;124;03m\"\"\"It looks like you are using Playwright Sync API inside the asyncio loop.\u001b[39;00m\n\u001b[1;32m     49\u001b[0m \u001b[38;5;124;03mPlease use the Async API instead.\"\"\"\u001b[39;00m\n\u001b[1;32m     50\u001b[0m             )\n\u001b[1;32m     52\u001b[0m         \u001b[38;5;66;03m# Create a new fiber for the protocol dispatcher. It will be pumping events\u001b[39;00m\n\u001b[1;32m     53\u001b[0m         \u001b[38;5;66;03m# until the end of times. We will pass control to that fiber every time we\u001b[39;00m\n\u001b[1;32m     54\u001b[0m         \u001b[38;5;66;03m# block while waiting for a response.\u001b[39;00m\n\u001b[1;32m     55\u001b[0m         \u001b[38;5;28;01mdef\u001b[39;00m\u001b[38;5;250m \u001b[39m\u001b[38;5;21mgreenlet_main\u001b[39m() \u001b[38;5;241m-\u001b[39m\u001b[38;5;241m>\u001b[39m \u001b[38;5;28;01mNone\u001b[39;00m:\n",
      "\u001b[0;31mError\u001b[0m: It looks like you are using Playwright Sync API inside the asyncio loop.\nPlease use the Async API instead."
     ]
    }
   ],
   "source": [
    "Login().login()"
   ]
  },
  {
   "cell_type": "code",
   "execution_count": 1,
   "metadata": {},
   "outputs": [
    {
     "name": "stdout",
     "output_type": "stream",
     "text": [
      "Message deleted successfully.\n"
     ]
    }
   ],
   "source": []
  }
 ],
 "metadata": {
  "kernelspec": {
   "display_name": ".env",
   "language": "python",
   "name": "python3"
  },
  "language_info": {
   "codemirror_mode": {
    "name": "ipython",
    "version": 3
   },
   "file_extension": ".py",
   "mimetype": "text/x-python",
   "name": "python",
   "nbconvert_exporter": "python",
   "pygments_lexer": "ipython3",
   "version": "3.9.6"
  }
 },
 "nbformat": 4,
 "nbformat_minor": 2
}
