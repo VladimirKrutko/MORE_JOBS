{
 "cells": [
  {
   "cell_type": "code",
   "execution_count": 12,
   "metadata": {},
   "outputs": [
    {
     "ename": "ModuleNotFoundError",
     "evalue": "No module named 'MORE_JOBS'",
     "output_type": "error",
     "traceback": [
      "\u001b[0;31m---------------------------------------------------------------------------\u001b[0m",
      "\u001b[0;31mModuleNotFoundError\u001b[0m                       Traceback (most recent call last)",
      "Cell \u001b[0;32mIn[12], line 2\u001b[0m\n\u001b[1;32m      1\u001b[0m \u001b[38;5;28;01mfrom\u001b[39;00m \u001b[38;5;21;01mscripting\u001b[39;00m\u001b[38;5;21;01m.\u001b[39;00m\u001b[38;5;21;01mparser\u001b[39;00m\u001b[38;5;21;01m.\u001b[39;00m\u001b[38;5;21;01mpracuj_pl\u001b[39;00m\u001b[38;5;21;01m.\u001b[39;00m\u001b[38;5;21;01mpage_parser\u001b[39;00m \u001b[38;5;28;01mimport\u001b[39;00m PracujPLParser\n\u001b[0;32m----> 2\u001b[0m \u001b[38;5;28;01mfrom\u001b[39;00m \u001b[38;5;21;01mscripting\u001b[39;00m\u001b[38;5;21;01m.\u001b[39;00m\u001b[38;5;21;01mloader\u001b[39;00m\u001b[38;5;21;01m.\u001b[39;00m\u001b[38;5;21;01mmodels\u001b[39;00m \u001b[38;5;28;01mimport\u001b[39;00m site\n",
      "File \u001b[0;32m~/Personal Project/Praca_Inzynierska/MJ/MORE_JOBS/scripting/loader/models/site.py:2\u001b[0m\n\u001b[1;32m      1\u001b[0m \u001b[38;5;28;01mfrom\u001b[39;00m \u001b[38;5;21;01msqlalchemy\u001b[39;00m \u001b[38;5;28;01mimport\u001b[39;00m Column, String\n\u001b[0;32m----> 2\u001b[0m \u001b[38;5;28;01mfrom\u001b[39;00m \u001b[38;5;21;01mMORE_JOBS\u001b[39;00m\u001b[38;5;21;01m.\u001b[39;00m\u001b[38;5;21;01mscripting\u001b[39;00m\u001b[38;5;21;01m.\u001b[39;00m\u001b[38;5;21;01mloader\u001b[39;00m\u001b[38;5;21;01m.\u001b[39;00m\u001b[38;5;21;01mbase_model\u001b[39;00m \u001b[38;5;28;01mimport\u001b[39;00m BaseModel\n\u001b[1;32m      3\u001b[0m \u001b[38;5;28;01mfrom\u001b[39;00m \u001b[38;5;21;01mMORE_JOBS\u001b[39;00m\u001b[38;5;21;01m.\u001b[39;00m\u001b[38;5;21;01mscripting\u001b[39;00m\u001b[38;5;21;01m.\u001b[39;00m\u001b[38;5;21;01mloader\u001b[39;00m\u001b[38;5;21;01m.\u001b[39;00m\u001b[38;5;21;01mdb_setup\u001b[39;00m \u001b[38;5;28;01mimport\u001b[39;00m Base\n\u001b[1;32m      6\u001b[0m \u001b[38;5;28;01mclass\u001b[39;00m \u001b[38;5;21;01mSite\u001b[39;00m(Base, BaseModel):\n",
      "\u001b[0;31mModuleNotFoundError\u001b[0m: No module named 'MORE_JOBS'"
     ]
    }
   ],
   "source": [
    "from scripting.parser.pracuj_pl.page_parser import PracujPLParser\n",
    "from scripting.loader.models import site"
   ]
  },
  {
   "cell_type": "code",
   "execution_count": 6,
   "metadata": {},
   "outputs": [],
   "source": [
    "parser = PracujPLParser('pracuj.pl')\n",
    "\n",
    "with open('/Users/ulakruts/Personal Project/Praca_Inzynierska/MJ/test.html', 'r') as f:\n",
    "    content = f.read()"
   ]
  },
  {
   "cell_type": "code",
   "execution_count": 7,
   "metadata": {},
   "outputs": [
    {
     "data": {
      "text/plain": [
       "{'url': 'huj',\n",
       " 'site': 'pracuj.pl',\n",
       " 'company_name': 'alior bank',\n",
       " 'company_url': None,\n",
       " 'company_description': None,\n",
       " 'offer_title': 'specjalista ds. portalu (ux i ui)',\n",
       " 'position_level': [{'id': 4,\n",
       "   'name': 'specjalista (Mid / Regular)',\n",
       "   'pracujPlName': 'specjalista (Mid / Regular)'}],\n",
       " 'technology_list': {'required': ['HTML'], 'optional': None},\n",
       " 'offer_description': 'alior bank konsekwentnie pracuje na miano innowatora. stały rozwój bankowości mobilnej i regularne wdrażanie najbardziej nowatorskich na rynku rozwiązań wymaga potężnego zaplecza it - zarówno w zakresie przygotowania aplikacji i systemów, jak i oceny ryzyka oraz kontroli bezpieczeństwa danych. aktualnie w pionie it alior banku zatrudniamy ponad 700 specjalistów. wykorzystują oni 15 różnych platform, 14 frameworków, ponad 50 różnych technologii w obszarze infrastruktury oraz 10 baz danych. wdrażamy aktualnie nowe systemy, takie jak kafka, eureka, kubernetes. pracujemy zarówno w klasycznym modelu projektowym, jak i w agile, który przystosowaliśmy do naszych standardów poprzez projekt agilor. przez zwinną transformację przeprowadza nas zespół scrum masterów.',\n",
       " 'requirements': 'masz wysokie umiejętności analityczne, jest ambitna, otwarta na nowe wyzwania, samodzielna i interdyscyplinarna,@@@@posiadasz wiedzę z zakresu ux i ui,@@@@masz doświadczenie w aktualizacji i tworzeniu stron internetowych, zna podstawy html,@@@@szybko się uczysz i chcesz rozwijać swoje umiejętności w obszarze digital marketingu.',\n",
       " 'responsibilities': 'inicjowanie projektów w ramach rozwoju portalu – w celu zwiększenia sprzedaży i użyteczności stron banku,@@@@śledzenie i wdrażanie najnowszych trendów w obszarze www we współpracy komórkami banku, w tym optymalizacja pod kątem ux/ui (dostępności),@@@@bieżąca aktualizacja (przez system cms), współtworzenie (projektowanie stron) i rozwój portalu banku o nowe funkcje i rozwiązania – we współpracy z agencją zewnętrzną,@@@@samodzielna edycja i tworzenie grafik internetowych na potrzeby www (znajomość programów graficznych np. photoshop, adobe illustrator),@@@@wspieranie projektów digitalowych z zakresu komunikacji marketingowej.',\n",
       " 'language': 'pl',\n",
       " 'city': {'Warszawa'},\n",
       " 'salary': '-',\n",
       " 'work_type': ['hybrid'],\n",
       " 'country': {'Polska'}}"
      ]
     },
     "execution_count": 7,
     "metadata": {},
     "output_type": "execute_result"
    }
   ],
   "source": [
    "parser.parse(content, 'huj')"
   ]
  },
  {
   "cell_type": "code",
   "execution_count": 10,
   "metadata": {},
   "outputs": [
    {
     "ename": "NameError",
     "evalue": "name 'Site' is not defined",
     "output_type": "error",
     "traceback": [
      "\u001b[0;31m---------------------------------------------------------------------------\u001b[0m",
      "\u001b[0;31mNameError\u001b[0m                                 Traceback (most recent call last)",
      "Cell \u001b[0;32mIn[10], line 1\u001b[0m\n\u001b[0;32m----> 1\u001b[0m site \u001b[38;5;241m=\u001b[39m \u001b[43mSite\u001b[49m(name\u001b[38;5;241m=\u001b[39m\u001b[38;5;124m'\u001b[39m\u001b[38;5;124mpracuj.pl\u001b[39m\u001b[38;5;124m'\u001b[39m, url\u001b[38;5;241m=\u001b[39m\u001b[38;5;124m'\u001b[39m\u001b[38;5;124mhttps://pracuj.pl\u001b[39m\u001b[38;5;124m'\u001b[39m)\n",
      "\u001b[0;31mNameError\u001b[0m: name 'Site' is not defined"
     ]
    }
   ],
   "source": [
    "site = Site(name='pracuj.pl', url='https://pracuj.pl')"
   ]
  },
  {
   "cell_type": "code",
   "execution_count": 9,
   "metadata": {},
   "outputs": [
    {
     "data": {
      "text/plain": [
       "'postgres'"
      ]
     },
     "execution_count": 9,
     "metadata": {},
     "output_type": "execute_result"
    }
   ],
   "source": [
    "import os\n",
    "\n",
    "os.getenv('DB_USER')"
   ]
  }
 ],
 "metadata": {
  "kernelspec": {
   "display_name": ".venv",
   "language": "python",
   "name": "python3"
  },
  "language_info": {
   "codemirror_mode": {
    "name": "ipython",
    "version": 3
   },
   "file_extension": ".py",
   "mimetype": "text/x-python",
   "name": "python",
   "nbconvert_exporter": "python",
   "pygments_lexer": "ipython3",
   "version": "3.12.7"
  }
 },
 "nbformat": 4,
 "nbformat_minor": 2
}
