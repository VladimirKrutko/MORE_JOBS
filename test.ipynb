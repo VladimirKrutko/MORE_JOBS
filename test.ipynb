{
 "cells": [
  {
   "cell_type": "code",
   "execution_count": 1,
   "metadata": {},
   "outputs": [],
   "source": [
    "from scripting.loader import db_setup\n",
    "from scripting.loader.models import site, company, offer_data, geography, offer_geography, offer, salary, offer_salary\n",
    "from scripting.parser.pracuj_pl.page_parser import PracujPLParser"
   ]
  },
  {
   "cell_type": "code",
   "execution_count": 2,
   "metadata": {},
   "outputs": [],
   "source": [
    "parser = PracujPLParser('pracuj.pl')\n",
    "\n",
    "with open('/Users/ulakruts/Personal Project/Praca_Inzynierska/MJ/test.html', 'r') as f:\n",
    "    content = f.read()"
   ]
  },
  {
   "cell_type": "code",
   "execution_count": 3,
   "metadata": {},
   "outputs": [],
   "source": [
    "page_data = parser.parse(content, 'huj')"
   ]
  },
  {
   "cell_type": "code",
   "execution_count": 4,
   "metadata": {},
   "outputs": [
    {
     "data": {
      "text/plain": [
       "{'url': 'huj',\n",
       " 'site': 'pracuj.pl',\n",
       " 'company_name': 'alior bank',\n",
       " 'company_url': None,\n",
       " 'company_description': None,\n",
       " 'offer_title': 'specjalista ds. portalu (ux i ui)',\n",
       " 'position_level': [{'id': 4,\n",
       "   'name': 'specjalista (Mid / Regular)',\n",
       "   'pracujPlName': 'specjalista (Mid / Regular)'}],\n",
       " 'technology_list': {'required': ['HTML'], 'optional': None},\n",
       " 'offer_description': 'alior bank konsekwentnie pracuje na miano innowatora. stały rozwój bankowości mobilnej i regularne wdrażanie najbardziej nowatorskich na rynku rozwiązań wymaga potężnego zaplecza it - zarówno w zakresie przygotowania aplikacji i systemów, jak i oceny ryzyka oraz kontroli bezpieczeństwa danych. aktualnie w pionie it alior banku zatrudniamy ponad 700 specjalistów. wykorzystują oni 15 różnych platform, 14 frameworków, ponad 50 różnych technologii w obszarze infrastruktury oraz 10 baz danych. wdrażamy aktualnie nowe systemy, takie jak kafka, eureka, kubernetes. pracujemy zarówno w klasycznym modelu projektowym, jak i w agile, który przystosowaliśmy do naszych standardów poprzez projekt agilor. przez zwinną transformację przeprowadza nas zespół scrum masterów.',\n",
       " 'requirements': 'masz wysokie umiejętności analityczne, jest ambitna, otwarta na nowe wyzwania, samodzielna i interdyscyplinarna,@@@@posiadasz wiedzę z zakresu ux i ui,@@@@masz doświadczenie w aktualizacji i tworzeniu stron internetowych, zna podstawy html,@@@@szybko się uczysz i chcesz rozwijać swoje umiejętności w obszarze digital marketingu.',\n",
       " 'responsibilities': 'inicjowanie projektów w ramach rozwoju portalu – w celu zwiększenia sprzedaży i użyteczności stron banku,@@@@śledzenie i wdrażanie najnowszych trendów w obszarze www we współpracy komórkami banku, w tym optymalizacja pod kątem ux/ui (dostępności),@@@@bieżąca aktualizacja (przez system cms), współtworzenie (projektowanie stron) i rozwój portalu banku o nowe funkcje i rozwiązania – we współpracy z agencją zewnętrzną,@@@@samodzielna edycja i tworzenie grafik internetowych na potrzeby www (znajomość programów graficznych np. photoshop, adobe illustrator),@@@@wspieranie projektów digitalowych z zakresu komunikacji marketingowej.',\n",
       " 'language': 'pl',\n",
       " 'city': {'Warszawa'},\n",
       " 'salary': '-',\n",
       " 'work_type': ['hybrid'],\n",
       " 'country': {'Polska'}}"
      ]
     },
     "execution_count": 4,
     "metadata": {},
     "output_type": "execute_result"
    }
   ],
   "source": [
    "page_data"
   ]
  },
  {
   "cell_type": "code",
   "execution_count": 15,
   "metadata": {},
   "outputs": [
    {
     "data": {
      "text/plain": [
       "<Site(id=2, name='pracuj.paal', domain='None')>"
      ]
     },
     "execution_count": 15,
     "metadata": {},
     "output_type": "execute_result"
    }
   ],
   "source": [
    "site.Site.create(name='pracuj.paal', url='https://pracuj.pl')"
   ]
  },
  {
   "cell_type": "code",
   "execution_count": 19,
   "metadata": {},
   "outputs": [
    {
     "data": {
      "text/plain": [
       "<Company(id=1, name='pracuj.paal', url='https://pracuj.pl', business_type='IT')>"
      ]
     },
     "execution_count": 19,
     "metadata": {},
     "output_type": "execute_result"
    }
   ],
   "source": [
    "company.Company.create(name='pracuj.paal', url='https://pracuj.pl', business_type='IT', description='IT')"
   ]
  },
  {
   "cell_type": "code",
   "execution_count": 12,
   "metadata": {},
   "outputs": [],
   "source": [
    "site_session = site.Session()\n",
    "site_session.add(p_site)\n",
    "site_session.commit()"
   ]
  },
  {
   "cell_type": "code",
   "execution_count": 13,
   "metadata": {},
   "outputs": [],
   "source": [
    "site_session.close()"
   ]
  },
  {
   "cell_type": "code",
   "execution_count": 6,
   "metadata": {},
   "outputs": [
    {
     "name": "stdout",
     "output_type": "stream",
     "text": [
      "Creating a new OfferData record...\n",
      "OfferData created with ID: 1\n",
      "Checking if OfferData record exists...\n",
      "An error occurred: (psycopg2.errors.UndefinedFunction) operator does not exist: jsonb = json\n",
      "LINE 3: WHERE offer_data.data = '{\"offer_description\": \"alior bank k...\n",
      "                              ^\n",
      "HINT:  No operator matches the given name and argument types. You might need to add explicit type casts.\n",
      "\n",
      "[SQL: SELECT offer_data.data AS offer_data_data, offer_data.requirements AS offer_data_requirements, offer_data.responsibilities AS offer_data_responsibilities, offer_data.original_language AS offer_data_original_language, offer_data.translated_data AS offer_data_translated_data, offer_data.id AS offer_data_id, offer_data.create_date AS offer_data_create_date, offer_data.update_date AS offer_data_update_date \n",
      "FROM offer_data \n",
      "WHERE offer_data.data = %(data_1)s::JSON \n",
      " LIMIT %(param_1)s]\n",
      "[parameters: {'data_1': '{\"offer_description\": \"alior bank konsekwentnie pracuje na miano innowatora...\", \"position_level\": [{\"id\": 4, \"name\": \"specjalista (Mid / Regular)\", \"pracujPlName\": \"specjalista (Mid / Regular)\"}], \"work_type\": [\"hybrid\"]}', 'param_1': 1}]\n",
      "(Background on this error at: https://sqlalche.me/e/20/f405)\n"
     ]
    }
   ],
   "source": [
    "def test_offer_data():\n",
    "    session =  db_setup.Session()\n",
    "    test_offer_data = {\n",
    "        \"data\": {\n",
    "            \"offer_description\": \"alior bank konsekwentnie pracuje na miano innowatora...\",\n",
    "            \"position_level\": [{\"id\": 4, \"name\": \"specjalista (Mid / Regular)\", \"pracujPlName\": \"specjalista (Mid / Regular)\"}],\n",
    "            \"work_type\": [\"hybrid\"]\n",
    "        },\n",
    "        \"requirements\": \"masz wysokie umiejętności analityczne, jest ambitna, otwarta на nowe wyzwania...\",\n",
    "        \"responsibilities\": \"inicjowanie projektów в ramach rozwoju portalu – w celu zwiększenia sprzedaży...\",\n",
    "        \"original_language\": \"pl\",\n",
    "        \"translated_data\": {\"offer_description_translated\": \"translated text\"}\n",
    "    }\n",
    "\n",
    "    try:\n",
    "        # Проверка метода create\n",
    "        print(\"Creating a new OfferData record...\")\n",
    "        offer_data_record = offer_data.OfferData.create(**test_offer_data)\n",
    "        if offer_data_record:\n",
    "            print(f\"OfferData created with ID: {offer_data_record.id}\")\n",
    "\n",
    "        # Проверка метода exists\n",
    "        print(\"Checking if OfferData record exists...\")\n",
    "        exists = offer_data.OfferData.exists(data=test_offer_data[\"data\"])\n",
    "        print(f\"OfferData exists: {exists}\")\n",
    "\n",
    "        # Проверка метода update\n",
    "        if offer_data_record:\n",
    "            print(\"Updating OfferData record...\")\n",
    "            updated_record = offer_data.OfferData.update(\n",
    "                record_id=offer_data_record.id,\n",
    "                requirements=\"Updated requirements\",\n",
    "                responsibilities=\"Updated responsibilities\"\n",
    "            )\n",
    "            print(f\"Updated OfferData: {updated_record.requirements}, {updated_record.responsibilities}\")\n",
    "\n",
    "        # Проверка выборки из базы\n",
    "        print(\"Querying OfferData records...\")\n",
    "        all_records = session.query(offer_data.OfferData).all()\n",
    "        for record in all_records:\n",
    "            print(f\"OfferData ID: {record.id}, Requirements: {record.requirements}\")\n",
    "\n",
    "    except Exception as e:\n",
    "        print(f\"An error occurred: {e}\")\n",
    "        session.rollback()\n",
    "    finally:\n",
    "        session.close()\n",
    "\n",
    "\n",
    "# Запуск теста\n",
    "test_offer_data()\n"
   ]
  },
  {
   "cell_type": "code",
   "execution_count": 12,
   "metadata": {},
   "outputs": [
    {
     "name": "stdout",
     "output_type": "stream",
     "text": [
      "Creating a test offer...\n",
      "Offer created with ID: 2, URL: test_offer_url\n",
      "Creating a test geography...\n",
      "Geography created with ID: 2, City: Test City, Country: Test Country\n",
      "Creating a test OfferGeography...\n",
      "OfferGeography created: OfferID=2, GeographyID=2\n",
      "Testing duplicate OfferGeography creation...\n",
      "OfferGeography with offer URL 'test_offer_url' and geography 'Test City, Test Country' already exists!\n",
      "Duplicate OfferGeography creation prevented successfully!\n"
     ]
    }
   ],
   "source": [
    "# from models.geography import Geography\n",
    "# from models.offer import Offer\n",
    "# from models.offer_geography import OfferGeography\n",
    "# from database.db_setup import SessionLocal\n",
    "\n",
    "\n",
    "def test_offer_geography_creation():\n",
    "    session = Session()\n",
    "\n",
    "    try:\n",
    "        print(\"Creating a test offer...\")\n",
    "        offer_data =  offer.Offer.create(\n",
    "            url=\"test_offer_url\",\n",
    "            name=\"Test Offer\",\n",
    "            position_level=\"Mid\",\n",
    "            data_id=-1,\n",
    "            site_name=\"Test Site\",\n",
    "            company_name=\"Test Company\",\n",
    "            active=True\n",
    "        )\n",
    "        if not offer_data:\n",
    "            print(\"Failed to create Offer. Check the create method for Offer.\")\n",
    "            return\n",
    "\n",
    "        print(f\"Offer created with ID: {offer_data.id}, URL: {offer_data.url}\")\n",
    "\n",
    "        print(\"Creating a test geography...\")\n",
    "        geography_data =  geography.Geography.create(\n",
    "            city=\"Test City\",\n",
    "            country=\"Test Country\"\n",
    "        )\n",
    "        if not geography_data:\n",
    "            print(\"Failed to create Geography. Check the create method for Geography.\")\n",
    "            return\n",
    "\n",
    "        print(f\"Geography created with ID: {geography_data.id}, City: {geography_data.city}, Country: {geography_data.country}\")\n",
    "\n",
    "        print(\"Creating a test OfferGeography...\")\n",
    "        offer_geography_data = offer_geography.OfferGeography.create(\n",
    "            offer_url=\"test_offer_url\",\n",
    "            city=\"Test City\",\n",
    "            country=\"Test Country\"\n",
    "        )\n",
    "        if offer_geography_data:\n",
    "            print(f\"OfferGeography created: OfferID={offer_geography_data.id_offer}, GeographyID={offer_geography_data.id_geography}\")\n",
    "        else:\n",
    "            print(\"Failed to create OfferGeography. Check the create method for OfferGeography.\")\n",
    "\n",
    "        print(\"Testing duplicate OfferGeography creation...\")\n",
    "        duplicate_offer_geography_data = offer_geography.OfferGeography.create(\n",
    "            offer_url=\"test_offer_url\",\n",
    "            city=\"Test City\",\n",
    "            country=\"Test Country\"\n",
    "        )\n",
    "        if not duplicate_offer_geography_data:\n",
    "            print(\"Duplicate OfferGeography creation prevented successfully!\")\n",
    "\n",
    "    except Exception as e:\n",
    "        print(f\"An error occurred: {e}\")\n",
    "        session.rollback()\n",
    "    finally:\n",
    "        session.close()\n",
    "\n",
    "\n",
    "test_offer_geography_creation()\n"
   ]
  },
  {
   "cell_type": "code",
   "execution_count": 11,
   "metadata": {},
   "outputs": [
    {
     "name": "stdout",
     "output_type": "stream",
     "text": [
      "Creating a test site...\n",
      "Site created with ID: 1, Name: Test Site, Domain: testsite.com\n",
      "Creating a test company...\n",
      "Company created with ID: 1, Name: Test Company, URL: https://testcompany.com\n",
      "Creating a test offer...\n",
      "Offer created: ID=1, URL=https://testoffer.com, Name=Test Offer, Position Level=Mid\n",
      "Testing duplicate Offer creation...\n",
      "Offer with URL 'https://testoffer.com' already exists!\n",
      "Duplicate Offer creation prevented successfully!\n"
     ]
    }
   ],
   "source": [
    "\n",
    "\n",
    "def test_offer_creation():\n",
    "    session = Session()\n",
    "\n",
    "    try:\n",
    "        # Создание записи в Site\n",
    "        print(\"Creating a test site...\")\n",
    "        site_data = site.Site.create(\n",
    "            name=\"Test Site\",\n",
    "            domain=\"testsite.com\"\n",
    "        )\n",
    "        if not site_data:\n",
    "            print(\"Failed to create Site. Check the create method for Site.\")\n",
    "            return\n",
    "\n",
    "        print(f\"Site created with ID: {site_data.id}, Name: {site_data.name}, Domain: {site_data.domain}\")\n",
    "\n",
    "        # Создание записи в Company\n",
    "        print(\"Creating a test company...\")\n",
    "        company_data = company.Company.create(\n",
    "            name=\"Test Company\",\n",
    "            url=\"https://testcompany.com\",\n",
    "            business_type=\"IT\",\n",
    "            description=\"A test company for testing.\"\n",
    "        )\n",
    "        if not company_data:\n",
    "            print(\"Failed to create Company. Check the create method for Company.\")\n",
    "            return\n",
    "\n",
    "        print(f\"Company created with ID: {company_data.id}, Name: {company_data.name}, URL: {company_data.url}\")\n",
    "\n",
    "        # Создание записи в Offer\n",
    "        print(\"Creating a test offer...\")\n",
    "        offer_data = offer.Offer.create(\n",
    "            url=\"https://testoffer.com\",\n",
    "            name=\"Test Offer\",\n",
    "            position_level=\"Mid\",\n",
    "            data_id=-1,\n",
    "            site_name=\"Test Site\",\n",
    "            company_name=\"Test Company\",\n",
    "            active=True\n",
    "        )\n",
    "        if offer_data:\n",
    "            print(f\"Offer created: ID={offer_data.id}, URL={offer_data.url}, Name={offer_data.name}, Position Level={offer_data.position_level}\")\n",
    "        else:\n",
    "            print(\"Failed to create Offer. Check the create method for Offer.\")\n",
    "\n",
    "        # Повторное создание для проверки уникальности\n",
    "        print(\"Testing duplicate Offer creation...\")\n",
    "        duplicate_offer_data = offer.Offer.create(\n",
    "            url=\"https://testoffer.com\",\n",
    "            name=\"Duplicate Offer\",\n",
    "            position_level=\"Senior\",\n",
    "            data_id=-1,\n",
    "            site_name=\"Test Site\",\n",
    "            company_name=\"Test Company\",\n",
    "            active=True\n",
    "        )\n",
    "        if not duplicate_offer_data:\n",
    "            print(\"Duplicate Offer creation prevented successfully!\")\n",
    "\n",
    "    except Exception as e:\n",
    "        print(f\"An error occurred: {e}\")\n",
    "        session.rollback()\n",
    "    finally:\n",
    "        session.close()\n",
    "\n",
    "\n",
    "test_offer_creation()\n"
   ]
  },
  {
   "cell_type": "code",
   "execution_count": 3,
   "metadata": {},
   "outputs": [
    {
     "name": "stdout",
     "output_type": "stream",
     "text": [
      "Creating a test offer...\n",
      "Offer with URL 'test_ofasassssfqefer_url' already exists!\n",
      "Offer created with ID: 4, URL: test_ofasassssfqefer_url\n",
      "Creating a test salary...\n",
      "Salary already exists!\n",
      "Salary created with ID: 1, Value: 5000-7000 PLN, Contract Type: Full-time\n",
      "Creating a test OfferSalary...\n",
      "OfferSalary with salary '5000-7000 PLN' and offer 'test_offer_url' already exists!\n",
      "Failed to create OfferSalary. Check the create method for OfferSalary.\n",
      "Testing duplicate OfferSalary creation...\n",
      "OfferSalary with salary '5000-7000 PLN' and offer 'test_offer_url' already exists!\n",
      "Duplicate OfferSalary creation prevented successfully!\n"
     ]
    }
   ],
   "source": [
    "from scripting.loader.db_setup import Session\n",
    "\n",
    "\n",
    "def test_offer_salary_creation():\n",
    "    session = Session()\n",
    "\n",
    "    try:\n",
    "        print(\"Creating a test offer...\")\n",
    "        offer_data = offer.Offer.create(\n",
    "            url=\"test_ofasassssfqefer_url\",\n",
    "            name=\"Test Offer\",\n",
    "            position_level=\"Mid\",\n",
    "            data_id=-1,\n",
    "            site_name=\"Test Site\",\n",
    "            company_name=\"Test Company\",\n",
    "            active=True\n",
    "        )\n",
    "        if not offer_data:\n",
    "            print(\"Failed to create Offer. Check the create method for Offer.\")\n",
    "            return\n",
    "\n",
    "        print(f\"Offer created with ID: {offer_data.id}, URL: {offer_data.url}\")\n",
    "\n",
    "        print(\"Creating a test salary...\")\n",
    "        salary_data = salary.Salary.create(\n",
    "            value=\"5000-7000 PLN\",\n",
    "            contract_type=\"Full-time\"\n",
    "        )\n",
    "        if not salary_data:\n",
    "            print(\"Failed to create Salary. Check the create method for Salary.\")\n",
    "            return\n",
    "\n",
    "        print(f\"Salary created with ID: {salary_data.id}, Value: {salary_data.value}, Contract Type: {salary_data.contract_type}\")\n",
    "\n",
    "        print(\"Creating a test OfferSalary...\")\n",
    "        offer_salary_data = offer_salary.OfferSalary.create(\n",
    "            offer_url=\"test_offer_url\",\n",
    "            salary_value=\"5000-7000 PLN\",\n",
    "            salary_contract_type=\"Full-time\"\n",
    "        )\n",
    "        if offer_salary_data:\n",
    "            print(f\"OfferSalary created: ID={offer_salary_data.id}, OfferID={offer_salary_data.id_offer}, SalaryID={offer_salary_data.id_salary}\")\n",
    "        else:\n",
    "            print(\"Failed to create OfferSalary. Check the create method for OfferSalary.\")\n",
    "\n",
    "        print(\"Testing duplicate OfferSalary creation...\")\n",
    "        duplicate_offer_salary_data = offer_salary.OfferSalary.create(\n",
    "            offer_url=\"test_offer_url\",\n",
    "            salary_value=\"5000-7000 PLN\",\n",
    "            salary_contract_type=\"Full-time\"\n",
    "        )\n",
    "        if not duplicate_offer_salary_data:\n",
    "            print(\"Duplicate OfferSalary creation prevented successfully!\")\n",
    "\n",
    "    except Exception as e:\n",
    "        print(f\"An error occurred: {e}\")\n",
    "        session.rollback()\n",
    "    finally:\n",
    "        session.close()\n",
    "\n",
    "\n",
    "test_offer_salary_creation()"
   ]
  }
 ],
 "metadata": {
  "kernelspec": {
   "display_name": ".venv",
   "language": "python",
   "name": "python3"
  },
  "language_info": {
   "codemirror_mode": {
    "name": "ipython",
    "version": 3
   },
   "file_extension": ".py",
   "mimetype": "text/x-python",
   "name": "python",
   "nbconvert_exporter": "python",
   "pygments_lexer": "ipython3",
   "version": "3.12.7"
  }
 },
 "nbformat": 4,
 "nbformat_minor": 2
}
