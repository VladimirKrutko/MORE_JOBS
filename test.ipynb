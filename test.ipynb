{
 "cells": [
  {
   "cell_type": "code",
   "execution_count": 1,
   "metadata": {},
   "outputs": [],
   "source": [
    "from scripting.loader import db_setup\n",
    "from scripting.loader.models import site, company, offer_data, geography, offer_geography, offer, salary, offer_salary\n",
    "from scripting.parser.pracuj_pl.page_parser import PracujPLParser"
   ]
  },
  {
   "cell_type": "code",
   "execution_count": 2,
   "metadata": {},
   "outputs": [],
   "source": [
    "parser = PracujPLParser('pracuj.pl')\n",
    "\n",
    "with open('/Users/ulakruts/Personal Project/Praca_Inzynierska/MJ/test.html', 'r') as f:\n",
    "    content = f.read()"
   ]
  },
  {
   "cell_type": "code",
   "execution_count": 3,
   "metadata": {},
   "outputs": [],
   "source": [
    "page_data = parser.parse(content, 'huj')"
   ]
  },
  {
   "cell_type": "code",
   "execution_count": 4,
   "metadata": {},
   "outputs": [
    {
     "data": {
      "text/plain": [
       "{'url': 'huj',\n",
       " 'site': 'pracuj.pl',\n",
       " 'company_name': 'alior bank',\n",
       " 'company_url': None,\n",
       " 'company_description': None,\n",
       " 'offer_title': 'specjalista ds. portalu (ux i ui)',\n",
       " 'position_level': [{'id': 4,\n",
       "   'name': 'specjalista (Mid / Regular)',\n",
       "   'pracujPlName': 'specjalista (Mid / Regular)'}],\n",
       " 'technology_list': {'required': ['HTML'], 'optional': None},\n",
       " 'offer_description': 'alior bank konsekwentnie pracuje na miano innowatora. stały rozwój bankowości mobilnej i regularne wdrażanie najbardziej nowatorskich na rynku rozwiązań wymaga potężnego zaplecza it - zarówno w zakresie przygotowania aplikacji i systemów, jak i oceny ryzyka oraz kontroli bezpieczeństwa danych. aktualnie w pionie it alior banku zatrudniamy ponad 700 specjalistów. wykorzystują oni 15 różnych platform, 14 frameworków, ponad 50 różnych technologii w obszarze infrastruktury oraz 10 baz danych. wdrażamy aktualnie nowe systemy, takie jak kafka, eureka, kubernetes. pracujemy zarówno w klasycznym modelu projektowym, jak i w agile, który przystosowaliśmy do naszych standardów poprzez projekt agilor. przez zwinną transformację przeprowadza nas zespół scrum masterów.',\n",
       " 'requirements': 'masz wysokie umiejętności analityczne, jest ambitna, otwarta na nowe wyzwania, samodzielna i interdyscyplinarna,@@@@posiadasz wiedzę z zakresu ux i ui,@@@@masz doświadczenie w aktualizacji i tworzeniu stron internetowych, zna podstawy html,@@@@szybko się uczysz i chcesz rozwijać swoje umiejętności w obszarze digital marketingu.',\n",
       " 'responsibilities': 'inicjowanie projektów w ramach rozwoju portalu – w celu zwiększenia sprzedaży i użyteczności stron banku,@@@@śledzenie i wdrażanie najnowszych trendów w obszarze www we współpracy komórkami banku, w tym optymalizacja pod kątem ux/ui (dostępności),@@@@bieżąca aktualizacja (przez system cms), współtworzenie (projektowanie stron) i rozwój portalu banku o nowe funkcje i rozwiązania – we współpracy z agencją zewnętrzną,@@@@samodzielna edycja i tworzenie grafik internetowych na potrzeby www (znajomość programów graficznych np. photoshop, adobe illustrator),@@@@wspieranie projektów digitalowych z zakresu komunikacji marketingowej.',\n",
       " 'language': 'pl',\n",
       " 'city': {'Warszawa'},\n",
       " 'salary': '-',\n",
       " 'work_type': ['hybrid'],\n",
       " 'country': {'Polska'}}"
      ]
     },
     "execution_count": 4,
     "metadata": {},
     "output_type": "execute_result"
    }
   ],
   "source": [
    "page_data"
   ]
  },
  {
   "cell_type": "code",
   "execution_count": 15,
   "metadata": {},
   "outputs": [
    {
     "data": {
      "text/plain": [
       "<Site(id=2, name='pracuj.paal', domain='None')>"
      ]
     },
     "execution_count": 15,
     "metadata": {},
     "output_type": "execute_result"
    }
   ],
   "source": [
    "site.Site.create(name='pracuj.paal', url='https://pracuj.pl')"
   ]
  },
  {
   "cell_type": "code",
   "execution_count": 19,
   "metadata": {},
   "outputs": [
    {
     "data": {
      "text/plain": [
       "<Company(id=1, name='pracuj.paal', url='https://pracuj.pl', business_type='IT')>"
      ]
     },
     "execution_count": 19,
     "metadata": {},
     "output_type": "execute_result"
    }
   ],
   "source": [
    "company.Company.create(name='pracuj.paal', url='https://pracuj.pl', business_type='IT', description='IT')"
   ]
  },
  {
   "cell_type": "code",
   "execution_count": 12,
   "metadata": {},
   "outputs": [],
   "source": [
    "site_session = site.Session()\n",
    "site_session.add(p_site)\n",
    "site_session.commit()"
   ]
  },
  {
   "cell_type": "code",
   "execution_count": 13,
   "metadata": {},
   "outputs": [],
   "source": [
    "site_session.close()"
   ]
  },
  {
   "cell_type": "code",
   "execution_count": 6,
   "metadata": {},
   "outputs": [
    {
     "name": "stdout",
     "output_type": "stream",
     "text": [
      "Creating a new OfferData record...\n",
      "OfferData created with ID: 1\n",
      "Checking if OfferData record exists...\n",
      "An error occurred: (psycopg2.errors.UndefinedFunction) operator does not exist: jsonb = json\n",
      "LINE 3: WHERE offer_data.data = '{\"offer_description\": \"alior bank k...\n",
      "                              ^\n",
      "HINT:  No operator matches the given name and argument types. You might need to add explicit type casts.\n",
      "\n",
      "[SQL: SELECT offer_data.data AS offer_data_data, offer_data.requirements AS offer_data_requirements, offer_data.responsibilities AS offer_data_responsibilities, offer_data.original_language AS offer_data_original_language, offer_data.translated_data AS offer_data_translated_data, offer_data.id AS offer_data_id, offer_data.create_date AS offer_data_create_date, offer_data.update_date AS offer_data_update_date \n",
      "FROM offer_data \n",
      "WHERE offer_data.data = %(data_1)s::JSON \n",
      " LIMIT %(param_1)s]\n",
      "[parameters: {'data_1': '{\"offer_description\": \"alior bank konsekwentnie pracuje na miano innowatora...\", \"position_level\": [{\"id\": 4, \"name\": \"specjalista (Mid / Regular)\", \"pracujPlName\": \"specjalista (Mid / Regular)\"}], \"work_type\": [\"hybrid\"]}', 'param_1': 1}]\n",
      "(Background on this error at: https://sqlalche.me/e/20/f405)\n"
     ]
    }
   ],
   "source": [
    "def test_offer_data():\n",
    "    session =  db_setup.Session()\n",
    "    test_offer_data = {\n",
    "        \"data\": {\n",
    "            \"offer_description\": \"alior bank konsekwentnie pracuje na miano innowatora...\",\n",
    "            \"position_level\": [{\"id\": 4, \"name\": \"specjalista (Mid / Regular)\", \"pracujPlName\": \"specjalista (Mid / Regular)\"}],\n",
    "            \"work_type\": [\"hybrid\"]\n",
    "        },\n",
    "        \"requirements\": \"masz wysokie umiejętności analityczne, jest ambitna, otwarta на nowe wyzwania...\",\n",
    "        \"responsibilities\": \"inicjowanie projektów в ramach rozwoju portalu – w celu zwiększenia sprzedaży...\",\n",
    "        \"original_language\": \"pl\",\n",
    "        \"translated_data\": {\"offer_description_translated\": \"translated text\"}\n",
    "    }\n",
    "\n",
    "    try:\n",
    "        # Проверка метода create\n",
    "        print(\"Creating a new OfferData record...\")\n",
    "        offer_data_record = offer_data.OfferData.create(**test_offer_data)\n",
    "        if offer_data_record:\n",
    "            print(f\"OfferData created with ID: {offer_data_record.id}\")\n",
    "\n",
    "        # Проверка метода exists\n",
    "        print(\"Checking if OfferData record exists...\")\n",
    "        exists = offer_data.OfferData.exists(data=test_offer_data[\"data\"])\n",
    "        print(f\"OfferData exists: {exists}\")\n",
    "\n",
    "        # Проверка метода update\n",
    "        if offer_data_record:\n",
    "            print(\"Updating OfferData record...\")\n",
    "            updated_record = offer_data.OfferData.update(\n",
    "                record_id=offer_data_record.id,\n",
    "                requirements=\"Updated requirements\",\n",
    "                responsibilities=\"Updated responsibilities\"\n",
    "            )\n",
    "            print(f\"Updated OfferData: {updated_record.requirements}, {updated_record.responsibilities}\")\n",
    "\n",
    "        # Проверка выборки из базы\n",
    "        print(\"Querying OfferData records...\")\n",
    "        all_records = session.query(offer_data.OfferData).all()\n",
    "        for record in all_records:\n",
    "            print(f\"OfferData ID: {record.id}, Requirements: {record.requirements}\")\n",
    "\n",
    "    except Exception as e:\n",
    "        print(f\"An error occurred: {e}\")\n",
    "        session.rollback()\n",
    "    finally:\n",
    "        session.close()\n",
    "\n",
    "\n",
    "# Запуск теста\n",
    "test_offer_data()\n"
   ]
  },
  {
   "cell_type": "code",
   "execution_count": 12,
   "metadata": {},
   "outputs": [
    {
     "name": "stdout",
     "output_type": "stream",
     "text": [
      "Creating a test offer...\n",
      "Offer created with ID: 2, URL: test_offer_url\n",
      "Creating a test geography...\n",
      "Geography created with ID: 2, City: Test City, Country: Test Country\n",
      "Creating a test OfferGeography...\n",
      "OfferGeography created: OfferID=2, GeographyID=2\n",
      "Testing duplicate OfferGeography creation...\n",
      "OfferGeography with offer URL 'test_offer_url' and geography 'Test City, Test Country' already exists!\n",
      "Duplicate OfferGeography creation prevented successfully!\n"
     ]
    }
   ],
   "source": [
    "# from models.geography import Geography\n",
    "# from models.offer import Offer\n",
    "# from models.offer_geography import OfferGeography\n",
    "# from database.db_setup import SessionLocal\n",
    "\n",
    "\n",
    "def test_offer_geography_creation():\n",
    "    session = Session()\n",
    "\n",
    "    try:\n",
    "        print(\"Creating a test offer...\")\n",
    "        offer_data =  offer.Offer.create(\n",
    "            url=\"test_offer_url\",\n",
    "            name=\"Test Offer\",\n",
    "            position_level=\"Mid\",\n",
    "            data_id=-1,\n",
    "            site_name=\"Test Site\",\n",
    "            company_name=\"Test Company\",\n",
    "            active=True\n",
    "        )\n",
    "        if not offer_data:\n",
    "            print(\"Failed to create Offer. Check the create method for Offer.\")\n",
    "            return\n",
    "\n",
    "        print(f\"Offer created with ID: {offer_data.id}, URL: {offer_data.url}\")\n",
    "\n",
    "        print(\"Creating a test geography...\")\n",
    "        geography_data =  geography.Geography.create(\n",
    "            city=\"Test City\",\n",
    "            country=\"Test Country\"\n",
    "        )\n",
    "        if not geography_data:\n",
    "            print(\"Failed to create Geography. Check the create method for Geography.\")\n",
    "            return\n",
    "\n",
    "        print(f\"Geography created with ID: {geography_data.id}, City: {geography_data.city}, Country: {geography_data.country}\")\n",
    "\n",
    "        print(\"Creating a test OfferGeography...\")\n",
    "        offer_geography_data = offer_geography.OfferGeography.create(\n",
    "            offer_url=\"test_offer_url\",\n",
    "            city=\"Test City\",\n",
    "            country=\"Test Country\"\n",
    "        )\n",
    "        if offer_geography_data:\n",
    "            print(f\"OfferGeography created: OfferID={offer_geography_data.id_offer}, GeographyID={offer_geography_data.id_geography}\")\n",
    "        else:\n",
    "            print(\"Failed to create OfferGeography. Check the create method for OfferGeography.\")\n",
    "\n",
    "        print(\"Testing duplicate OfferGeography creation...\")\n",
    "        duplicate_offer_geography_data = offer_geography.OfferGeography.create(\n",
    "            offer_url=\"test_offer_url\",\n",
    "            city=\"Test City\",\n",
    "            country=\"Test Country\"\n",
    "        )\n",
    "        if not duplicate_offer_geography_data:\n",
    "            print(\"Duplicate OfferGeography creation prevented successfully!\")\n",
    "\n",
    "    except Exception as e:\n",
    "        print(f\"An error occurred: {e}\")\n",
    "        session.rollback()\n",
    "    finally:\n",
    "        session.close()\n",
    "\n",
    "\n",
    "test_offer_geography_creation()\n"
   ]
  },
  {
   "cell_type": "code",
   "execution_count": 11,
   "metadata": {},
   "outputs": [
    {
     "name": "stdout",
     "output_type": "stream",
     "text": [
      "Creating a test site...\n",
      "Site created with ID: 1, Name: Test Site, Domain: testsite.com\n",
      "Creating a test company...\n",
      "Company created with ID: 1, Name: Test Company, URL: https://testcompany.com\n",
      "Creating a test offer...\n",
      "Offer created: ID=1, URL=https://testoffer.com, Name=Test Offer, Position Level=Mid\n",
      "Testing duplicate Offer creation...\n",
      "Offer with URL 'https://testoffer.com' already exists!\n",
      "Duplicate Offer creation prevented successfully!\n"
     ]
    }
   ],
   "source": [
    "\n",
    "\n",
    "def test_offer_creation():\n",
    "    session = Session()\n",
    "\n",
    "    try:\n",
    "        # Создание записи в Site\n",
    "        print(\"Creating a test site...\")\n",
    "        site_data = site.Site.create(\n",
    "            name=\"Test Site\",\n",
    "            domain=\"testsite.com\"\n",
    "        )\n",
    "        if not site_data:\n",
    "            print(\"Failed to create Site. Check the create method for Site.\")\n",
    "            return\n",
    "\n",
    "        print(f\"Site created with ID: {site_data.id}, Name: {site_data.name}, Domain: {site_data.domain}\")\n",
    "\n",
    "        # Создание записи в Company\n",
    "        print(\"Creating a test company...\")\n",
    "        company_data = company.Company.create(\n",
    "            name=\"Test Company\",\n",
    "            url=\"https://testcompany.com\",\n",
    "            business_type=\"IT\",\n",
    "            description=\"A test company for testing.\"\n",
    "        )\n",
    "        if not company_data:\n",
    "            print(\"Failed to create Company. Check the create method for Company.\")\n",
    "            return\n",
    "\n",
    "        print(f\"Company created with ID: {company_data.id}, Name: {company_data.name}, URL: {company_data.url}\")\n",
    "\n",
    "        # Создание записи в Offer\n",
    "        print(\"Creating a test offer...\")\n",
    "        offer_data = offer.Offer.create(\n",
    "            url=\"https://testoffer.com\",\n",
    "            name=\"Test Offer\",\n",
    "            position_level=\"Mid\",\n",
    "            data_id=-1,\n",
    "            site_name=\"Test Site\",\n",
    "            company_name=\"Test Company\",\n",
    "            active=True\n",
    "        )\n",
    "        if offer_data:\n",
    "            print(f\"Offer created: ID={offer_data.id}, URL={offer_data.url}, Name={offer_data.name}, Position Level={offer_data.position_level}\")\n",
    "        else:\n",
    "            print(\"Failed to create Offer. Check the create method for Offer.\")\n",
    "\n",
    "        # Повторное создание для проверки уникальности\n",
    "        print(\"Testing duplicate Offer creation...\")\n",
    "        duplicate_offer_data = offer.Offer.create(\n",
    "            url=\"https://testoffer.com\",\n",
    "            name=\"Duplicate Offer\",\n",
    "            position_level=\"Senior\",\n",
    "            data_id=-1,\n",
    "            site_name=\"Test Site\",\n",
    "            company_name=\"Test Company\",\n",
    "            active=True\n",
    "        )\n",
    "        if not duplicate_offer_data:\n",
    "            print(\"Duplicate Offer creation prevented successfully!\")\n",
    "\n",
    "    except Exception as e:\n",
    "        print(f\"An error occurred: {e}\")\n",
    "        session.rollback()\n",
    "    finally:\n",
    "        session.close()\n",
    "\n",
    "\n",
    "test_offer_creation()\n"
   ]
  },
  {
   "cell_type": "code",
   "execution_count": 3,
   "metadata": {},
   "outputs": [
    {
     "name": "stdout",
     "output_type": "stream",
     "text": [
      "Creating a test offer...\n",
      "Offer with URL 'test_ofasassssfqefer_url' already exists!\n",
      "Offer created with ID: 4, URL: test_ofasassssfqefer_url\n",
      "Creating a test salary...\n",
      "Salary already exists!\n",
      "Salary created with ID: 1, Value: 5000-7000 PLN, Contract Type: Full-time\n",
      "Creating a test OfferSalary...\n",
      "OfferSalary with salary '5000-7000 PLN' and offer 'test_offer_url' already exists!\n",
      "Failed to create OfferSalary. Check the create method for OfferSalary.\n",
      "Testing duplicate OfferSalary creation...\n",
      "OfferSalary with salary '5000-7000 PLN' and offer 'test_offer_url' already exists!\n",
      "Duplicate OfferSalary creation prevented successfully!\n"
     ]
    }
   ],
   "source": [
    "from scripting.loader.db_setup import Session\n",
    "\n",
    "\n",
    "def test_offer_salary_creation():\n",
    "    session = Session()\n",
    "\n",
    "    try:\n",
    "        print(\"Creating a test offer...\")\n",
    "        offer_data = offer.Offer.create(\n",
    "            url=\"test_ofasassssfqefer_url\",\n",
    "            name=\"Test Offer\",\n",
    "            position_level=\"Mid\",\n",
    "            data_id=-1,\n",
    "            site_name=\"Test Site\",\n",
    "            company_name=\"Test Company\",\n",
    "            active=True\n",
    "        )\n",
    "        if not offer_data:\n",
    "            print(\"Failed to create Offer. Check the create method for Offer.\")\n",
    "            return\n",
    "\n",
    "        print(f\"Offer created with ID: {offer_data.id}, URL: {offer_data.url}\")\n",
    "\n",
    "        print(\"Creating a test salary...\")\n",
    "        salary_data = salary.Salary.create(\n",
    "            value=\"5000-7000 PLN\",\n",
    "            contract_type=\"Full-time\"\n",
    "        )\n",
    "        if not salary_data:\n",
    "            print(\"Failed to create Salary. Check the create method for Salary.\")\n",
    "            return\n",
    "\n",
    "        print(f\"Salary created with ID: {salary_data.id}, Value: {salary_data.value}, Contract Type: {salary_data.contract_type}\")\n",
    "\n",
    "        print(\"Creating a test OfferSalary...\")\n",
    "        offer_salary_data = offer_salary.OfferSalary.create(\n",
    "            offer_url=\"test_offer_url\",\n",
    "            salary_value=\"5000-7000 PLN\",\n",
    "            salary_contract_type=\"Full-time\"\n",
    "        )\n",
    "        if offer_salary_data:\n",
    "            print(f\"OfferSalary created: ID={offer_salary_data.id}, OfferID={offer_salary_data.id_offer}, SalaryID={offer_salary_data.id_salary}\")\n",
    "        else:\n",
    "            print(\"Failed to create OfferSalary. Check the create method for OfferSalary.\")\n",
    "\n",
    "        print(\"Testing duplicate OfferSalary creation...\")\n",
    "        duplicate_offer_salary_data = offer_salary.OfferSalary.create(\n",
    "            offer_url=\"test_offer_url\",\n",
    "            salary_value=\"5000-7000 PLN\",\n",
    "            salary_contract_type=\"Full-time\"\n",
    "        )\n",
    "        if not duplicate_offer_salary_data:\n",
    "            print(\"Duplicate OfferSalary creation prevented successfully!\")\n",
    "\n",
    "    except Exception as e:\n",
    "        print(f\"An error occurred: {e}\")\n",
    "        session.rollback()\n",
    "    finally:\n",
    "        session.close()\n",
    "\n",
    "\n",
    "test_offer_salary_creation()"
   ]
  },
  {
   "cell_type": "code",
   "execution_count": 1,
   "metadata": {},
   "outputs": [],
   "source": [
    "from scripting.parser.pracuj_pl.placement_parser import PracujPLPlacement"
   ]
  },
  {
   "cell_type": "code",
   "execution_count": 16,
   "metadata": {},
   "outputs": [],
   "source": [
    "from scripting.parser.pracuj_pl.base_methods import *\n",
    "from scripting.parser.base_parser import BaseParser\n",
    "\n",
    "class PracujPLPlacement(BaseParser, BaseMethods):\n",
    "    \n",
    "    def parse(self, response_result, url):\n",
    "        self.initialize_variables(response_result, url)\n",
    "        return self.create_result()\n",
    "    \n",
    "    def create_result(self):\n",
    "        return {\n",
    "            'offer_urls': self.parse_offer_urls(), \n",
    "            'next_page': self.pagination(),\n",
    "            }\n",
    "\n",
    "    def parse_offer_urls(self):\n",
    "        links = self.doc.find_all(\"a\", attrs={\"data-test\": re.compile(r\"^link-offer$\")})\n",
    "        return [link['href'] for link in links]\n",
    "    \n",
    "    def pagination(self):\n",
    "        page_number = self.get_page_number()\n",
    "        if page_number == self.last_page():\n",
    "            return None\n",
    "        \n",
    "        return f\"{self.url}?pn=2\" if page_number == 1 else re.sub(r\"(\\d+)\", str(page_number+1), self.url)\n",
    "        \n",
    "    def get_page_number(self):\n",
    "        page_number = re.search(r\"(\\d+)\", self.url)\n",
    "        return int(page_number.group(0)) if page_number else 1\n",
    "     \n",
    "    def last_page(self):\n",
    "        pages = self.doc.find_all(\"button\", {\"data-test\": lambda value: value and \"bottom-pagination-button-page\" in value})\n",
    "        return max([int(p.text.strip()) for p in pages])\n"
   ]
  },
  {
   "cell_type": "code",
   "execution_count": 14,
   "metadata": {},
   "outputs": [],
   "source": [
    "with open('/Users/ulakruts/Personal Project/Praca_Inzynierska/MJ/MORE_JOBS/placement.html', 'r') as f:\n",
    "    page_data = f.read()"
   ]
  },
  {
   "cell_type": "code",
   "execution_count": 17,
   "metadata": {},
   "outputs": [
    {
     "name": "stdout",
     "output_type": "stream",
     "text": [
      "[<button class=\"listing_n19df7xb size-small variant-secondary core_b1fqykql\" data-test=\"bottom-pagination-button-page-1\" style=\"--n19df7xb-0:var(--sip-colors-grayscale-dark, #676B8D);--n19df7xb-1:var(--sip-colors-grayscale-disabledlight, #E4E5EB)\">1</button>, <button class=\"listing_n19df7xb size-small variant-secondary core_b1fqykql\" data-test=\"bottom-pagination-button-page-2\" style=\"--n19df7xb-0:var(--sip-colors-primary, #4855C6);--n19df7xb-1:var(--sip-colors-primary, #4855C6)\">2</button>, <button class=\"listing_n19df7xb size-small variant-secondary core_b1fqykql\" data-test=\"bottom-pagination-button-page-3\" style=\"--n19df7xb-0:var(--sip-colors-grayscale-dark, #676B8D);--n19df7xb-1:var(--sip-colors-grayscale-disabledlight, #E4E5EB)\">3</button>, <button class=\"listing_n19df7xb size-small variant-secondary core_b1fqykql\" data-test=\"bottom-pagination-button-page-4\" style=\"--n19df7xb-0:var(--sip-colors-grayscale-dark, #676B8D);--n19df7xb-1:var(--sip-colors-grayscale-disabledlight, #E4E5EB)\">4</button>, <button class=\"listing_n19df7xb size-small variant-secondary core_b1fqykql\" data-test=\"bottom-pagination-button-page-86\" style=\"--n19df7xb-0:var(--sip-colors-grayscale-dark, #676B8D);--n19df7xb-1:var(--sip-colors-grayscale-disabledlight, #E4E5EB)\">86</button>]\n"
     ]
    },
    {
     "ename": "AttributeError",
     "evalue": "ResultSet object has no attribute 'text'. You're probably treating a list of elements like a single element. Did you call find_all() when you meant to call find()?",
     "output_type": "error",
     "traceback": [
      "\u001b[0;31m---------------------------------------------------------------------------\u001b[0m",
      "\u001b[0;31mAttributeError\u001b[0m                            Traceback (most recent call last)",
      "Cell \u001b[0;32mIn[17], line 1\u001b[0m\n\u001b[0;32m----> 1\u001b[0m \u001b[43mPracujPLPlacement\u001b[49m\u001b[43m(\u001b[49m\u001b[38;5;124;43m'\u001b[39;49m\u001b[38;5;124;43mhuj.com\u001b[39;49m\u001b[38;5;124;43m'\u001b[39;49m\u001b[43m)\u001b[49m\u001b[38;5;241;43m.\u001b[39;49m\u001b[43mparse\u001b[49m\u001b[43m(\u001b[49m\u001b[43mpage_data\u001b[49m\u001b[43m,\u001b[49m\u001b[43m \u001b[49m\u001b[38;5;124;43m'\u001b[39;49m\u001b[38;5;124;43mhuj.com\u001b[39;49m\u001b[38;5;124;43m'\u001b[39;49m\u001b[43m)\u001b[49m\n",
      "Cell \u001b[0;32mIn[16], line 8\u001b[0m, in \u001b[0;36mPracujPLPlacement.parse\u001b[0;34m(self, response_result, url)\u001b[0m\n\u001b[1;32m      6\u001b[0m \u001b[38;5;28;01mdef\u001b[39;00m \u001b[38;5;21mparse\u001b[39m(\u001b[38;5;28mself\u001b[39m, response_result, url):\n\u001b[1;32m      7\u001b[0m     \u001b[38;5;28mself\u001b[39m\u001b[38;5;241m.\u001b[39minitialize_variables(response_result, url)\n\u001b[0;32m----> 8\u001b[0m     \u001b[38;5;28;01mreturn\u001b[39;00m \u001b[38;5;28;43mself\u001b[39;49m\u001b[38;5;241;43m.\u001b[39;49m\u001b[43mcreate_result\u001b[49m\u001b[43m(\u001b[49m\u001b[43m)\u001b[49m\n",
      "Cell \u001b[0;32mIn[16], line 13\u001b[0m, in \u001b[0;36mPracujPLPlacement.create_result\u001b[0;34m(self)\u001b[0m\n\u001b[1;32m     10\u001b[0m \u001b[38;5;28;01mdef\u001b[39;00m \u001b[38;5;21mcreate_result\u001b[39m(\u001b[38;5;28mself\u001b[39m):\n\u001b[1;32m     11\u001b[0m     \u001b[38;5;28;01mreturn\u001b[39;00m {\n\u001b[1;32m     12\u001b[0m         \u001b[38;5;124m'\u001b[39m\u001b[38;5;124moffer_urls\u001b[39m\u001b[38;5;124m'\u001b[39m: \u001b[38;5;28mself\u001b[39m\u001b[38;5;241m.\u001b[39mparse_offer_urls(), \n\u001b[0;32m---> 13\u001b[0m         \u001b[38;5;124m'\u001b[39m\u001b[38;5;124mnext_page\u001b[39m\u001b[38;5;124m'\u001b[39m: \u001b[38;5;28;43mself\u001b[39;49m\u001b[38;5;241;43m.\u001b[39;49m\u001b[43mpagination\u001b[49m\u001b[43m(\u001b[49m\u001b[43m)\u001b[49m,\n\u001b[1;32m     14\u001b[0m         }\n",
      "Cell \u001b[0;32mIn[16], line 22\u001b[0m, in \u001b[0;36mPracujPLPlacement.pagination\u001b[0;34m(self)\u001b[0m\n\u001b[1;32m     20\u001b[0m \u001b[38;5;28;01mdef\u001b[39;00m \u001b[38;5;21mpagination\u001b[39m(\u001b[38;5;28mself\u001b[39m):\n\u001b[1;32m     21\u001b[0m     page_number \u001b[38;5;241m=\u001b[39m \u001b[38;5;28mself\u001b[39m\u001b[38;5;241m.\u001b[39mget_page_number()\n\u001b[0;32m---> 22\u001b[0m     \u001b[38;5;28;01mif\u001b[39;00m page_number \u001b[38;5;241m==\u001b[39m \u001b[38;5;28;43mself\u001b[39;49m\u001b[38;5;241;43m.\u001b[39;49m\u001b[43mlast_page\u001b[49m\u001b[43m(\u001b[49m\u001b[43m)\u001b[49m:\n\u001b[1;32m     23\u001b[0m         \u001b[38;5;28;01mreturn\u001b[39;00m \u001b[38;5;28;01mNone\u001b[39;00m\n\u001b[1;32m     25\u001b[0m     \u001b[38;5;28;01mreturn\u001b[39;00m \u001b[38;5;124mf\u001b[39m\u001b[38;5;124m\"\u001b[39m\u001b[38;5;132;01m{\u001b[39;00m\u001b[38;5;28mself\u001b[39m\u001b[38;5;241m.\u001b[39murl\u001b[38;5;132;01m}\u001b[39;00m\u001b[38;5;124m?pn=2\u001b[39m\u001b[38;5;124m\"\u001b[39m \u001b[38;5;28;01mif\u001b[39;00m page_number \u001b[38;5;241m==\u001b[39m \u001b[38;5;241m1\u001b[39m \u001b[38;5;28;01melse\u001b[39;00m re\u001b[38;5;241m.\u001b[39msub(\u001b[38;5;124mr\u001b[39m\u001b[38;5;124m\"\u001b[39m\u001b[38;5;124m(\u001b[39m\u001b[38;5;124m\\\u001b[39m\u001b[38;5;124md+)\u001b[39m\u001b[38;5;124m\"\u001b[39m, \u001b[38;5;28mstr\u001b[39m(page_number\u001b[38;5;241m+\u001b[39m\u001b[38;5;241m1\u001b[39m), \u001b[38;5;28mself\u001b[39m\u001b[38;5;241m.\u001b[39murl)\n",
      "Cell \u001b[0;32mIn[16], line 34\u001b[0m, in \u001b[0;36mPracujPLPlacement.last_page\u001b[0;34m(self)\u001b[0m\n\u001b[1;32m     32\u001b[0m pages \u001b[38;5;241m=\u001b[39m \u001b[38;5;28mself\u001b[39m\u001b[38;5;241m.\u001b[39mdoc\u001b[38;5;241m.\u001b[39mfind_all(\u001b[38;5;124m\"\u001b[39m\u001b[38;5;124mbutton\u001b[39m\u001b[38;5;124m\"\u001b[39m, {\u001b[38;5;124m\"\u001b[39m\u001b[38;5;124mdata-test\u001b[39m\u001b[38;5;124m\"\u001b[39m: \u001b[38;5;28;01mlambda\u001b[39;00m value: value \u001b[38;5;129;01mand\u001b[39;00m \u001b[38;5;124m\"\u001b[39m\u001b[38;5;124mbottom-pagination-button-page\u001b[39m\u001b[38;5;124m\"\u001b[39m \u001b[38;5;129;01min\u001b[39;00m value})\n\u001b[1;32m     33\u001b[0m \u001b[38;5;28mprint\u001b[39m(pages)\n\u001b[0;32m---> 34\u001b[0m \u001b[38;5;28;01mreturn\u001b[39;00m \u001b[38;5;28mmax\u001b[39m([\u001b[38;5;28mint\u001b[39m(\u001b[43mpages\u001b[49m\u001b[38;5;241;43m.\u001b[39;49m\u001b[43mtext\u001b[49m\u001b[38;5;241m.\u001b[39mstrip()) \u001b[38;5;28;01mfor\u001b[39;00m p \u001b[38;5;129;01min\u001b[39;00m pages])\n",
      "File \u001b[0;32m~/Personal Project/Praca_Inzynierska/MJ/MORE_JOBS/.chroma/lib/python3.12/site-packages/bs4/element.py:2433\u001b[0m, in \u001b[0;36mResultSet.__getattr__\u001b[0;34m(self, key)\u001b[0m\n\u001b[1;32m   2431\u001b[0m \u001b[38;5;28;01mdef\u001b[39;00m \u001b[38;5;21m__getattr__\u001b[39m(\u001b[38;5;28mself\u001b[39m, key):\n\u001b[1;32m   2432\u001b[0m \u001b[38;5;250m    \u001b[39m\u001b[38;5;124;03m\"\"\"Raise a helpful exception to explain a common code fix.\"\"\"\u001b[39;00m\n\u001b[0;32m-> 2433\u001b[0m     \u001b[38;5;28;01mraise\u001b[39;00m \u001b[38;5;167;01mAttributeError\u001b[39;00m(\n\u001b[1;32m   2434\u001b[0m         \u001b[38;5;124m\"\u001b[39m\u001b[38;5;124mResultSet object has no attribute \u001b[39m\u001b[38;5;124m'\u001b[39m\u001b[38;5;132;01m%s\u001b[39;00m\u001b[38;5;124m'\u001b[39m\u001b[38;5;124m. You\u001b[39m\u001b[38;5;124m'\u001b[39m\u001b[38;5;124mre probably treating a list of elements like a single element. Did you call find_all() when you meant to call find()?\u001b[39m\u001b[38;5;124m\"\u001b[39m \u001b[38;5;241m%\u001b[39m key\n\u001b[1;32m   2435\u001b[0m     )\n",
      "\u001b[0;31mAttributeError\u001b[0m: ResultSet object has no attribute 'text'. You're probably treating a list of elements like a single element. Did you call find_all() when you meant to call find()?"
     ]
    }
   ],
   "source": [
    "PracujPLPlacement('huj.com').parse(page_data, 'huj.com')"
   ]
  }
 ],
 "metadata": {
  "kernelspec": {
   "display_name": ".venv",
   "language": "python",
   "name": "python3"
  },
  "language_info": {
   "codemirror_mode": {
    "name": "ipython",
    "version": 3
   },
   "file_extension": ".py",
   "mimetype": "text/x-python",
   "name": "python",
   "nbconvert_exporter": "python",
   "pygments_lexer": "ipython3",
   "version": "3.12.7"
  }
 },
 "nbformat": 4,
 "nbformat_minor": 2
}
