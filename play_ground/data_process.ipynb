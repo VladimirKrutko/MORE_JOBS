{
 "cells": [
  {
   "cell_type": "code",
   "execution_count": 29,
   "metadata": {},
   "outputs": [],
   "source": [
    "import os\n",
    "import json\n",
    "# import chardet\n",
    "import pandas as pd"
   ]
  },
  {
   "cell_type": "code",
   "execution_count": 30,
   "metadata": {},
   "outputs": [],
   "source": [
    "todos = []\n",
    "for todo_file in os.listdir('todos'):\n",
    "    with open(f\"./todos/{todo_file}\") as f:\n",
    "        [todos.append(line.strip()) for line in f]"
   ]
  },
  {
   "cell_type": "code",
   "execution_count": 21,
   "metadata": {},
   "outputs": [
    {
     "data": {
      "text/plain": [
       "8513"
      ]
     },
     "execution_count": 21,
     "metadata": {},
     "output_type": "execute_result"
    }
   ],
   "source": [
    "len(set(todos))"
   ]
  },
  {
   "cell_type": "code",
   "execution_count": 22,
   "metadata": {},
   "outputs": [
    {
     "data": {
      "text/plain": [
       "171"
      ]
     },
     "execution_count": 22,
     "metadata": {},
     "output_type": "execute_result"
    }
   ],
   "source": [
    "len(os.listdir('./todos'))"
   ]
  },
  {
   "cell_type": "code",
   "execution_count": 28,
   "metadata": {},
   "outputs": [
    {
     "data": {
      "text/plain": [
       "8513"
      ]
     },
     "execution_count": 28,
     "metadata": {},
     "output_type": "execute_result"
    }
   ],
   "source": [
    "len(os.listdir('./offer_data/new_pages2'))"
   ]
  },
  {
   "cell_type": "code",
   "execution_count": 7,
   "metadata": {},
   "outputs": [
    {
     "data": {
      "text/plain": [
       "['1708374910.430624.json',\n",
       " '1708374903.555512.json',\n",
       " '1708374896.711317.json',\n",
       " '1708374889.732885.json',\n",
       " '1708374882.829758.json',\n",
       " '1708463871614089.json',\n",
       " '1708374869.322154.json',\n",
       " '1708374917.149757.json',\n",
       " '1708374925.406293.json',\n",
       " '1708374876.150987.json',\n",
       " '1708463906547303.json',\n",
       " '1708463864663014.json',\n",
       " '1708374924.033366.json',\n",
       " '1708463878410460.json',\n",
       " '1708463885035593.json',\n",
       " '1708463857954747.json',\n",
       " '1708463851388402.json',\n",
       " '1708463908209392.json',\n",
       " '1708463892007269.json',\n",
       " '1708463898830309.json']"
      ]
     },
     "execution_count": 7,
     "metadata": {},
     "output_type": "execute_result"
    }
   ],
   "source": [
    "os.listdir('./offer_data/json_pages')"
   ]
  },
  {
   "cell_type": "code",
   "execution_count": 8,
   "metadata": {},
   "outputs": [
    {
     "name": "stdout",
     "output_type": "stream",
     "text": [
      "500\n",
      "500\n",
      "500\n",
      "500\n",
      "500\n",
      "500\n",
      "500\n",
      "500\n",
      "316\n",
      "500\n"
     ]
    }
   ],
   "source": [
    "file_path = './offer_data/pl_json_pages'\n",
    "\n",
    "json_data = []\n",
    "for file in os.listdir(file_path):\n",
    "    with open(f'{file_path}/' + file, 'r') as f:\n",
    "        data = json.load(f)\n",
    "        [json_data.append(obj) for obj in data]"
   ]
  },
  {
   "cell_type": "code",
   "execution_count": 10,
   "metadata": {},
   "outputs": [],
   "source": [
    "offerd_df = pd.DataFrame.from_dict(json_data)"
   ]
  },
  {
   "cell_type": "code",
   "execution_count": 12,
   "metadata": {},
   "outputs": [],
   "source": [
    "offerd_df.to_csv('offer_data.csv', index=False, encoding='utf-8')"
   ]
  },
  {
   "cell_type": "code",
   "execution_count": null,
   "metadata": {},
   "outputs": [],
   "source": [
    "import json"
   ]
  }
 ],
 "metadata": {
  "kernelspec": {
   "display_name": ".mrenv",
   "language": "python",
   "name": "python3"
  },
  "language_info": {
   "codemirror_mode": {
    "name": "ipython",
    "version": 3
   },
   "file_extension": ".py",
   "mimetype": "text/x-python",
   "name": "python",
   "nbconvert_exporter": "python",
   "pygments_lexer": "ipython3",
   "version": "3.12.3"
  }
 },
 "nbformat": 4,
 "nbformat_minor": 2
}
