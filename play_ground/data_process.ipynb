{
 "cells": [
  {
   "cell_type": "code",
   "execution_count": 3,
   "metadata": {},
   "outputs": [],
   "source": [
    "import os\n",
    "import json\n",
    "import pandas as pd"
   ]
  },
  {
   "cell_type": "code",
   "execution_count": 4,
   "metadata": {},
   "outputs": [],
   "source": [
    "file_path = 'play_ground/offer_data/pl_json_pages'\n",
    "\n",
    "json_data = []\n",
    "for file in os.listdir('./offer_data/json_pages'):\n",
    "    with open('./offer_data/json_pages/' + file, 'r') as f:\n",
    "        data = json.load(f)\n",
    "        [json_data.append(obj) for obj in data]\n",
    "        # print(data)\n"
   ]
  },
  {
   "cell_type": "code",
   "execution_count": 5,
   "metadata": {},
   "outputs": [
    {
     "data": {
      "text/plain": [
       "{'title': 'Koordynator ZespoÅ\\x82u ds. Wsparcia IT',\n",
       " 'employmentType': 'umowa o pracÄ\\x99',\n",
       " 'baseSalary': None,\n",
       " 'industry': 'IT - Administracja',\n",
       " 'description': None,\n",
       " 'jobBenefits': '13 pensja, dofinansowanie zajÄ\\x99Ä\\x87 sportowych, dofinansowanie szkoleÅ\\x84 i kursÃ³w, preferencyjne poÅ¼yczki, dofinansowanie biletÃ³w do kina, teatru, dofinansowanie wypoczynku, dodatkowy urlop',\n",
       " 'responsibilities': 'koordynowanie i nadzÃ³r nad realizacjÄ\\x85 prac ZespoÅ\\x82u ds. Wsparcia IT (pierwsza linia wsparcia) w Dziale Technologii Informacyjnych UEP;, wspieranie zespoÅ\\x82u w realizacji wyznaczonych celÃ³w;, zapewnienie wysokich standardÃ³w obsÅ\\x82ugi uÅ¼ytkownikÃ³w przez zespÃ³Å\\x82;, podejmowanie dziaÅ\\x82aÅ\\x84 zmierzajÄ\\x85cych do nieustannego doskonalenia procesÃ³w wsparcia IT;, wspÃ³Å\\x82praca z innymi zespoÅ\\x82ami DTI w celu realizacji wyznaczonych celÃ³w;, pomiar i raportowanie parametrÃ³w jakoÅ\\x9bciowych usÅ\\x82ug wsparcia IT;, wsparcie uÅ¼ytkownikÃ³w w zakresie wykorzystywanych systemÃ³w;, wspÃ³Å\\x82praca z jednostkami organizacyjnymi Uczelni w zakresie wykorzystania i rozwijania systemÃ³w informatycznych;, uczestniczenie w planowaniu rozwoju informatyzacji Uczelni.',\n",
       " 'experienceRequirements': 'wyksztaÅ\\x82cenie wyÅ¼sze informatyczne lub pokrewne;, minimum 3 letnie doÅ\\x9bwiadczenie w zarzÄ\\x85dzaniu pracÄ\\x85 zespoÅ\\x82u w ramach pierwszej linii wsparcia IT;, bardzo dobre umiejÄ\\x99tnoÅ\\x9bci komunikacyjne, w tym umiejÄ\\x99tnoÅ\\x9bÄ\\x87 przekazywania informacji technicznych osobom nietechnicznym;, umiejÄ\\x99tnoÅ\\x9bÄ\\x87 pracy w zespole;, proaktywna postawa w rozwiÄ\\x85zywaniu problemÃ³w;, znajomoÅ\\x9bÄ\\x87 praktyk ITIL;, znajomoÅ\\x9bÄ\\x87/umiejÄ\\x99tnoÅ\\x9bÄ\\x87 korzystania z systemÃ³w obsÅ\\x82ugi zgÅ\\x82oszeÅ\\x84 (preferowany ServiceDesk Plus);, szeroka wiedza na temat systemÃ³w, aplikacji, technologii sieciowych i infrastrukturalnych, w tym m.in. znajomoÅ\\x9bÄ\\x87 systemÃ³w Linux i Windows, funkcjonowania baz danych, Active Directory, systemÃ³w klasy ERP;, praktyczna wiedza z zakresu cyberbezpieczeÅ\\x84stwa i bezpieczeÅ\\x84stwa informacji;, znajomoÅ\\x9bÄ\\x87 jÄ\\x99zyka angielskiego na poziomie komunikatywnym i pozwalajÄ\\x85cym na korzystanie z dokumentacji;, samodzielnoÅ\\x9bÄ\\x87, dokÅ\\x82adnoÅ\\x9bÄ\\x87 i odpowiedzialnoÅ\\x9bÄ\\x87.'}"
      ]
     },
     "execution_count": 5,
     "metadata": {},
     "output_type": "execute_result"
    }
   ],
   "source": [
    "json_data[5]"
   ]
  },
  {
   "cell_type": "code",
   "execution_count": 5,
   "metadata": {},
   "outputs": [
    {
     "data": {
      "text/plain": [
       "b'jako\\xc3\\x85\\xc2\\x9bci'"
      ]
     },
     "execution_count": 5,
     "metadata": {},
     "output_type": "execute_result"
    }
   ],
   "source": [
    "'jako\\u00c5\\u009bci'.encode('UTF8')"
   ]
  }
 ],
 "metadata": {
  "kernelspec": {
   "display_name": ".mrenv",
   "language": "python",
   "name": "python3"
  },
  "language_info": {
   "codemirror_mode": {
    "name": "ipython",
    "version": 3
   },
   "file_extension": ".py",
   "mimetype": "text/x-python",
   "name": "python",
   "nbconvert_exporter": "python",
   "pygments_lexer": "ipython3",
   "version": "3.11.2"
  }
 },
 "nbformat": 4,
 "nbformat_minor": 2
}
