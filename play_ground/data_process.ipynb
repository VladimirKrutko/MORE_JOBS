{
 "cells": [
  {
   "cell_type": "code",
   "execution_count": 1,
   "metadata": {},
   "outputs": [
    {
     "name": "stderr",
     "output_type": "stream",
     "text": [
      "/var/folders/h5/64qykf294zn3ggth49z4d8pm0000gn/T/ipykernel_12245/1510323149.py:4: DeprecationWarning: \n",
      "Pyarrow will become a required dependency of pandas in the next major release of pandas (pandas 3.0),\n",
      "(to allow more performant data types, such as the Arrow string type, and better interoperability with other libraries)\n",
      "but was not found to be installed on your system.\n",
      "If this would cause problems for you,\n",
      "please provide us feedback at https://github.com/pandas-dev/pandas/issues/54466\n",
      "        \n",
      "  import pandas as pd\n"
     ]
    }
   ],
   "source": [
    "import os\n",
    "import json\n",
    "import chardet\n",
    "import pandas as pd"
   ]
  },
  {
   "cell_type": "code",
   "execution_count": 7,
   "metadata": {},
   "outputs": [
    {
     "data": {
      "text/plain": [
       "['1708374910.430624.json',\n",
       " '1708374903.555512.json',\n",
       " '1708374896.711317.json',\n",
       " '1708374889.732885.json',\n",
       " '1708374882.829758.json',\n",
       " '1708463871614089.json',\n",
       " '1708374869.322154.json',\n",
       " '1708374917.149757.json',\n",
       " '1708374925.406293.json',\n",
       " '1708374876.150987.json',\n",
       " '1708463906547303.json',\n",
       " '1708463864663014.json',\n",
       " '1708374924.033366.json',\n",
       " '1708463878410460.json',\n",
       " '1708463885035593.json',\n",
       " '1708463857954747.json',\n",
       " '1708463851388402.json',\n",
       " '1708463908209392.json',\n",
       " '1708463892007269.json',\n",
       " '1708463898830309.json']"
      ]
     },
     "execution_count": 7,
     "metadata": {},
     "output_type": "execute_result"
    }
   ],
   "source": [
    "os.listdir('./offer_data/json_pages')"
   ]
  },
  {
   "cell_type": "code",
   "execution_count": 8,
   "metadata": {},
   "outputs": [
    {
     "name": "stdout",
     "output_type": "stream",
     "text": [
      "500\n",
      "500\n",
      "500\n",
      "500\n",
      "500\n",
      "500\n",
      "500\n",
      "500\n",
      "316\n",
      "500\n"
     ]
    }
   ],
   "source": [
    "file_path = './offer_data/pl_json_pages'\n",
    "\n",
    "json_data = []\n",
    "for file in os.listdir(file_path):\n",
    "    with open(f'{file_path}/' + file, 'r') as f:\n",
    "        data = json.load(f)\n",
    "        [json_data.append(obj) for obj in data]"
   ]
  },
  {
   "cell_type": "code",
   "execution_count": 10,
   "metadata": {},
   "outputs": [],
   "source": [
    "offerd_df = pd.DataFrame.from_dict(json_data)"
   ]
  },
  {
   "cell_type": "code",
   "execution_count": 12,
   "metadata": {},
   "outputs": [],
   "source": [
    "offerd_df.to_csv('offer_data.csv', index=False, encoding='utf-8')"
   ]
  }
 ],
 "metadata": {
  "kernelspec": {
   "display_name": ".mrenv",
   "language": "python",
   "name": "python3"
  },
  "language_info": {
   "codemirror_mode": {
    "name": "ipython",
    "version": 3
   },
   "file_extension": ".py",
   "mimetype": "text/x-python",
   "name": "python",
   "nbconvert_exporter": "python",
   "pygments_lexer": "ipython3",
   "version": "3.11.2"
  }
 },
 "nbformat": 4,
 "nbformat_minor": 2
}
