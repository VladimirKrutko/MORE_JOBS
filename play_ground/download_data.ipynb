{
 "cells": [
  {
   "cell_type": "code",
   "execution_count": 9,
   "metadata": {},
   "outputs": [],
   "source": [
    "import os\n",
    "import json\n",
    "import loader as Loader\n",
    "import parser as Parser\n",
    "from bs4 import BeautifulSoup"
   ]
  },
  {
   "cell_type": "code",
   "execution_count": 8,
   "metadata": {},
   "outputs": [],
   "source": [
    "loader = Loader.Loader()\n",
    "base_url = 'https://it.pracuj.pl/praca'\n",
    "file_names = []\n",
    "for page_number in range(1, 93):\n",
    "    page_url = f\"{base_url}?pn={page_number}\" if page_number > 1 else base_url\n",
    "    file_names.append( loader.crawler(page_url, f'main_page_page{page_number}') )\n",
    "    # file_names.append( loader.crawler(f\"{base_url}\") if page_number == 1 else loader.crawler(f\"{base_url}?pn={page_number}\") )"
   ]
  },
  {
   "cell_type": "code",
   "execution_count": 14,
   "metadata": {},
   "outputs": [],
   "source": [
    "file_names = os.listdir('temp_data')\n",
    "for file_name in file_names:\n",
    "    base_file_name = file_name.split('_')[2]\n",
    "    parser = Parser.Parser( f\"./temp_data/{file_name}\", base_file_name)\n",
    "    parser.parse()\n",
    "    # with open(f'temp_data/{file_name}', 'r') as file:\n",
    "    #     content = file.read()\n",
    "    #     parser = Parser.Parser(content)\n",
    "    #     parser.parse()\n",
    "    #     parser.save_to_json(f'parsed_data/{file_name}.json')\n",
    "    #     parser.save_to_csv(f'parsed_data/{file_name}.csv')\n",
    "    #     parser.save_to_sql(f'parsed_data/{file_name}.sql')"
   ]
  },
  {
   "cell_type": "code",
   "execution_count": 13,
   "metadata": {},
   "outputs": [
    {
     "data": {
      "text/plain": [
       "'page22'"
      ]
     },
     "execution_count": 13,
     "metadata": {},
     "output_type": "execute_result"
    }
   ],
   "source": [
    "'main_page_page22_1707576214953344.html'.split('_')[2]"
   ]
  },
  {
   "cell_type": "code",
   "execution_count": 5,
   "metadata": {},
   "outputs": [],
   "source": [
    "parser = Parser.Parser(file_path='./temp_data/pl_1707575579327143.html', base_file_name='page_1')\n",
    "parser.parse()"
   ]
  }
 ],
 "metadata": {
  "kernelspec": {
   "display_name": ".mrenv",
   "language": "python",
   "name": "python3"
  },
  "language_info": {
   "codemirror_mode": {
    "name": "ipython",
    "version": 3
   },
   "file_extension": ".py",
   "mimetype": "text/x-python",
   "name": "python",
   "nbconvert_exporter": "python",
   "pygments_lexer": "ipython3",
   "version": "3.11.2"
  }
 },
 "nbformat": 4,
 "nbformat_minor": 2
}
